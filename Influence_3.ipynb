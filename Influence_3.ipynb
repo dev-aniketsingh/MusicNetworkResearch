{
 "cells": [
  {
   "attachments": {},
   "cell_type": "markdown",
   "metadata": {},
   "source": [
    "## In genre and Out genre "
   ]
  },
  {
   "attachments": {},
   "cell_type": "markdown",
   "metadata": {},
   "source": [
    " We want to study what is the distribution of in-genre influence vs out-genre influence. For each artist,  we calculate the number of outgoing edges to artists within the same genre and the number of outgoing edges to artists outside their genre. This will allow us to find the artist that is most influencing within the genre vs outisde the genre, and it is important to study them seprately as this gives us new insights. "
   ]
  },
  {
   "cell_type": "code",
   "execution_count": 65,
   "metadata": {},
   "outputs": [
    {
     "name": "stdout",
     "output_type": "stream",
     "text": [
      "             Artist Name  In-Genre Influence Count  Out-Genre Influence Count\n",
      "0          Frank Sinatra                        31                         40\n",
      "1      Vladimir Horowitz                         0                          0\n",
      "2            Johnny Cash                        52                         60\n",
      "3         Billie Holiday                        34                         72\n",
      "4              Bob Dylan                       322                         67\n",
      "...                  ...                       ...                        ...\n",
      "5849     Natalie La Rose                         0                          0\n",
      "5850          Sarah Ross                         0                          0\n",
      "5851              Rotimi                         0                          0\n",
      "5852  Jillian Jacqueline                         0                          0\n",
      "5853         Jaira Burns                         0                          0\n",
      "\n",
      "[5854 rows x 3 columns]\n"
     ]
    }
   ],
   "source": [
    "import pandas as pd\n",
    "\n",
    "# Initialize lists to store artist names, in-genre, and out-genre influence counts\n",
    "artist_names = []\n",
    "in_genre_counts = []\n",
    "out_genre_counts = []\n",
    "\n",
    "# Iterate through the nodes (artists) in the graph\n",
    "for artist_id in G.nodes:\n",
    "\n",
    "    # Store the artist name\n",
    "    artist_names.append(G.nodes[artist_id]['artist_name'])\n",
    "\n",
    "    # Store the in-genre and out-genre influence counts for the current artist\n",
    "    in_genre_counts.append(in_genre_influence[artist_id])\n",
    "    out_genre_counts.append(out_genre_influence[artist_id])\n",
    "\n",
    "# Create a DataFrame with the results\n",
    "results_df = pd.DataFrame({\n",
    "    'Artist Name': artist_names,\n",
    "    'In-Genre Influence Count': in_genre_counts,\n",
    "    'Out-Genre Influence Count': out_genre_counts\n",
    "})\n",
    "\n",
    "# Display the DataFrame as a table\n",
    "print(results_df)\n"
   ]
  },
  {
   "attachments": {},
   "cell_type": "markdown",
   "metadata": {},
   "source": [
    "Let us sort the values with respect to out-genre influence. "
   ]
  },
  {
   "cell_type": "code",
   "execution_count": 67,
   "metadata": {},
   "outputs": [
    {
     "name": "stdout",
     "output_type": "stream",
     "text": [
      "      Artist Name  In-Genre Influence Count  Out-Genre Influence Count\n",
      "0   Hank Williams                        97                         87\n",
      "1    Muddy Waters                        33                         80\n",
      "2     Miles Davis                        83                         77\n",
      "3       Kraftwerk                        31                         77\n",
      "4     James Brown                        78                         76\n",
      "5    Howlin' Wolf                        25                         74\n",
      "6  Billie Holiday                        34                         72\n",
      "7     Marvin Gaye                        99                         70\n",
      "8     Ray Charles                        44                         69\n",
      "9       Bob Dylan                       322                         67\n"
     ]
    }
   ],
   "source": [
    "# Sort the DataFrame by the 'Out-Genre Influence Count' column in descending order\n",
    "sorted_results_df = results_df.sort_values('Out-Genre Influence Count', ascending=False)\n",
    "\n",
    "# Reset the index of the sorted DataFrame\n",
    "sorted_results_df.reset_index(drop=True, inplace=True)\n",
    "\n",
    "print(sorted_results_df.head(10))\n"
   ]
  },
  {
   "attachments": {},
   "cell_type": "markdown",
   "metadata": {},
   "source": [
    "The analysis shows that Hank Williams has the highest out-genre influence count among the artists in the dataset. This suggests that Hank Williams has had a significant impact on artists from genres other than his own. Out-genre influence is an important factor to consider in understanding the overall impact of an artist on the music industry.\n",
    "\n",
    "Out-genre influence is more important than in-genre influence for several reasons:\n",
    "\n",
    "Cross-genre inspiration: When an artist has a high out-genre influence, it demonstrates their ability to inspire and affect musicians beyond their own genre. This cross-genre inspiration can lead to the creation of new sub-genres, musical styles, and innovative ideas, enriching the music landscape.\n",
    "Broadening audience reach: Artists with a high out-genre influence are likely to have a wider audience reach, as their music can resonate with listeners across different genres. This can lead to increased popularity, album sales, and concert attendance, benefiting the artist's career.\n",
    "Cultural impact: A high out-genre influence suggests that an artist has transcended their own genre and left a mark on the broader cultural landscape. This can elevate the artist to a legendary status and make their music timeless, reaching new generations of listeners.\n",
    "Industry recognition: Artists with significant out-genre influence are often acknowledged by the music industry for their contributions, receiving accolades, awards, and critical acclaim. This recognition can further enhance their reputation and legacy.\n",
    "The importance of this analysis lies in identifying artists who have had a far-reaching impact on the music industry, transcending their own genres and influencing musicians from diverse backgrounds. Understanding out-genre influence can provide valuable insights into the factors that contribute to an artist's success and the evolution of music over time.\n",
    "\n",
    "Now let us observe the artists with the highest in-genre influence. "
   ]
  },
  {
   "cell_type": "code",
   "execution_count": 69,
   "metadata": {},
   "outputs": [
    {
     "name": "stdout",
     "output_type": "stream",
     "text": [
      "              Artist Name  In-Genre Influence Count  Out-Genre Influence Count\n",
      "0             The Beatles                       553                         61\n",
      "1               Bob Dylan                       322                         67\n",
      "2      The Rolling Stones                       304                         15\n",
      "3             David Bowie                       224                         14\n",
      "4            Led Zeppelin                       213                          8\n",
      "5               The Kinks                       191                          0\n",
      "6          The Beach Boys                       179                          6\n",
      "7  The Velvet Underground                       175                          6\n",
      "8           Black Sabbath                       169                          2\n",
      "9               The Byrds                       153                          5\n"
     ]
    }
   ],
   "source": [
    "# Sort the DataFrame by the 'Out-Genre Influence Count' column in descending order\n",
    "sorted_results_df1 = results_df.sort_values('In-Genre Influence Count', ascending=False)\n",
    "\n",
    "# Reset the index of the sorted DataFrame\n",
    "sorted_results_df1.reset_index(drop=True, inplace=True)\n",
    "\n",
    "print(sorted_results_df1.head(10))"
   ]
  },
  {
   "attachments": {},
   "cell_type": "markdown",
   "metadata": {},
   "source": [
    "The analysis of the artists with the highest in-genre and out-genre influence provides interesting insights into the impact and reach of these musicians. Comparing the top 10 artists with the highest in-genre influence and out-genre influence reveals some key observations:\n",
    "\n",
    "Diverse musical styles: The artists with the highest in-genre influence predominantly belong to the rock and pop genres, with bands like The Beatles, The Rolling Stones, and Led Zeppelin leading the list. On the other hand, the top artists with the highest out-genre influence come from a more diverse range of musical styles, including country (Hank Williams), blues (Muddy Waters, Howlin' Wolf), jazz (Miles Davis, Billie Holiday), electronic (Kraftwerk), funk (James Brown), and soul (Marvin Gaye, Ray Charles). This highlights the cross-genre impact of artists with high out-genre influence and their ability to inspire musicians from various backgrounds.\n",
    "\n",
    "Unique appeal: The artists with high out-genre influence counts demonstrate a unique appeal that transcends their own genres. Hank Williams, for example, has significantly influenced musicians from other genres, indicating the universality of his music and lyrics. Similarly, Muddy Waters and Miles Davis have had a substantial impact on musicians beyond their respective genres of blues and jazz, showcasing the power of their artistry.\n",
    "Pioneers and innovators: The list of artists with the highest out-genre influence includes several pioneers and innovators in their respective genres. For example, Kraftwerk is known for its groundbreaking work in electronic music, while James Brown revolutionized funk and soul. These artists have had a lasting impact on the music industry and have inspired musicians across genres to experiment with new sounds and styles.\n",
    "\n",
    "Overlapping artists: Bob Dylan is the only artist who appears in both the top 10 lists for in-genre and out-genre influence. This indicates his exceptional ability to not only dominate his own genre but also inspire musicians from other genres, highlighting his influence and versatility as an artist.\n",
    "\n",
    "In conclusion, the analysis of in-genre and out-genre influence provides valuable insights into the impact and reach of different artists. While artists with high in-genre influence are often leaders in their respective genres, those with high out-genre influence showcase the power of transcending musical boundaries and inspiring musicians from a variety of backgrounds. Understanding these influence patterns can help in identifying the factors contributing to an artist's success and the evolution of music over time."
   ]
  },
  {
   "attachments": {},
   "cell_type": "markdown",
   "metadata": {},
   "source": []
  },
  {
   "attachments": {},
   "cell_type": "markdown",
   "metadata": {},
   "source": [
    "In this study, we aim to analyze the influence of musical artists with respect to their relationships within the same genre (in-genre) and across different genres (out-genre). A straightforward approach to identify the most influential artists is to combine the in-genre and out-genre influence counts. However, if the in-genre influence count is significantly higher than the out-genre influence count, it may dominate the combined influence score, thereby overshadowing the impact of out-genre influences. To address this issue, we apply weighting factors to both in-genre and out-genre influence counts to balance their contributions in the combined score. To achieve this, we calculate separate weights for in-genre and out-genre influences using a network centrality measure called eigenvector centrality. This measure is chosen because it takes into account not only the number of influence relationships an artist has (in-degree centrality) but also the importance of the artists they are connected to.\n",
    "\n",
    "Eigenvector centrality is a measure of an artist's influence based on the idea that the importance of a node (artist) is determined by the importance of its neighbors (other artists they influence or are influenced by). In other words, an artist's influence is more significant if it influences other highly influential artists. This centrality measure allows us to capture the relative importance of artists within the network more accurately than simply counting the number of influence relationships.\n",
    "\n",
    "To calculate separate weights for in-genre and out-genre influences, we first create two subgraphs: one for in-genre influence relationships and another for out-genre influence relationships. The in-genre influence subgraph contains only the edges where both the influencer and follower artists belong to the same genre, representing the influence within the same genre. The out-genre influence subgraph contains only the edges where the influencer and follower artists belong to different genres, representing the influence between different genres.\n",
    "\n",
    "Next, we calculate eigenvector centralities for each node in both subgraphs using the NetworkX library's nx.eigenvector_centrality() function. We compute the average eigenvector centrality for in-genre and out-genre subgraphs by taking the mean of the values in the centrality dictionaries. This gives us a measure of the overall importance of in-genre and out-genre influence relationships in the network.\n",
    "\n",
    "To obtain the weights, we normalize the average centralities by dividing each average centrality by the total centrality (the sum of average in-genre and out-genre centralities). This results in two normalized values, one for in-genre influence and one for out-genre influence, which can be interpreted as the relative importance of these influence types within the network.\n",
    "\n",
    "Finally, we calculate the weighted combined influence score for each artist by multiplying their in-genre influence count by the in-genre weight and adding it to their out-genre influence count multiplied by the out-genre weight. This produces a score that takes into account both the number of influence relationships and the relative importance of in-genre and out-genre influences, as determined by the eigenvector centrality measure.\n",
    "\n",
    "By following this methodology, we can identify the overall influencing artists with respect to in-genre and out-genre influences, providing valuable insights into the dynamics of musical influence across genres."
   ]
  },
  {
   "cell_type": "code",
   "execution_count": 70,
   "metadata": {},
   "outputs": [
    {
     "name": "stdout",
     "output_type": "stream",
     "text": [
      "          Artist Name  In-Genre Influence Count  Out-Genre Influence Count  \\\n",
      "0         The Beatles                       553                         61   \n",
      "1           Bob Dylan                       322                         67   \n",
      "2  The Rolling Stones                       304                         15   \n",
      "3         David Bowie                       224                         14   \n",
      "4       Hank Williams                        97                         87   \n",
      "5        Jimi Hendrix                       151                         50   \n",
      "6        Led Zeppelin                       213                          8   \n",
      "7         Marvin Gaye                        99                         70   \n",
      "8         Miles Davis                        83                         77   \n",
      "9         James Brown                        78                         76   \n",
      "\n",
      "   Weighted Combined Influence Count  \n",
      "0                         251.231841  \n",
      "1                         165.595771  \n",
      "2                         126.741874  \n",
      "3                          95.196518  \n",
      "4                          90.866501  \n",
      "5                          89.051659  \n",
      "6                          87.263267  \n",
      "7                          81.212852  \n",
      "8                          79.319901  \n",
      "9                          76.773300  \n"
     ]
    }
   ],
   "source": [
    "import numpy as np\n",
    "\n",
    "# Create in-genre and out-genre influence subgraphs\n",
    "in_genre_edges = [(u, v) for u, v in G.edges() if G.nodes[u]['genre'] == G.nodes[v]['genre']]\n",
    "out_genre_edges = [(u, v) for u, v in G.edges() if G.nodes[u]['genre'] != G.nodes[v]['genre']]\n",
    "\n",
    "in_genre_G = G.edge_subgraph(in_genre_edges)\n",
    "out_genre_G = G.edge_subgraph(out_genre_edges)\n",
    "\n",
    "# Calculate eigenvector centralities for both subgraphs\n",
    "in_genre_eigenvector_centrality = nx.eigenvector_centrality(in_genre_G)\n",
    "out_genre_eigenvector_centrality = nx.eigenvector_centrality(out_genre_G)\n",
    "\n",
    "# Compute the average eigenvector centralities for in-genre and out-genre subgraphs\n",
    "avg_in_genre_centrality = np.mean(list(in_genre_eigenvector_centrality.values()))\n",
    "avg_out_genre_centrality = np.mean(list(out_genre_eigenvector_centrality.values()))\n",
    "\n",
    "# Normalize the average centralities to obtain the weights\n",
    "total_centrality = avg_in_genre_centrality + avg_out_genre_centrality\n",
    "in_genre_weight = avg_in_genre_centrality / total_centrality\n",
    "out_genre_weight = avg_out_genre_centrality / total_centrality\n",
    "\n",
    "# Calculate the weighted combined influence score for each artist\n",
    "results_df['Weighted Combined Influence Count'] = (results_df['In-Genre Influence Count'] * in_genre_weight) + (results_df['Out-Genre Influence Count'] * out_genre_weight)\n",
    "\n",
    "# Sort the DataFrame by the 'Weighted Combined Influence Count' column in descending order\n",
    "sorted_results_df_weighted = results_df.sort_values('Weighted Combined Influence Count', ascending=False)\n",
    "\n",
    "# Reset the index of the sorted DataFrame\n",
    "sorted_results_df_weighted.reset_index(drop=True, inplace=True)\n",
    "\n",
    "# Display the top artists in the sorted DataFrame\n",
    "print(sorted_results_df_weighted.head(10))\n"
   ]
  },
  {
   "attachments": {},
   "cell_type": "markdown",
   "metadata": {},
   "source": [
    "The table shows that The Beatles have the highest weighted combined influence count (251.23), indicating that they are the most influential artists overall when considering both in-genre and out-genre relationships. Bob Dylan comes in second place with a weighted combined influence count of 165.60, followed by The Rolling Stones with a count of 126.74. \n",
    "\n",
    "The results presented in the table have important implications for understanding the dynamics of musical influence and the impact of artists across different genres.\n",
    "\n",
    "First, the weighted combined influence count provides a more balanced and comprehensive perspective on an artist's influence, compared to only considering either in-genre or out-genre influence counts. By accounting for both types of relationships, we can identify artists who have had a significant impact not only within their own genre but also in bridging the gap between different genres. This highlights the role of these artists in fostering cross-genre exchange and innovation.\n",
    "\n",
    "Second, the list of top 10 artists based on the weighted combined influence count features artists from various genres and time periods, demonstrating the lasting influence and appeal of their work. It is noteworthy that some artists, like Hank Williams, have a higher out-genre influence count than in-genre influence count, suggesting their music has transcended the boundaries of their own genre and has had a broader impact on the music landscape.\n",
    "\n",
    "These findings underscore the importance of examining both in-genre and out-genre influence relationships when assessing an artist's impact on the music world. Moreover, they offer insights into the creative exchange between genres and the factors that contribute to the enduring influence of certain artists. This understanding can be useful for musicologists, historians, and industry professionals interested in the evolution of music and the key players shaping its development."
   ]
  },
  {
   "cell_type": "code",
   "execution_count": 71,
   "metadata": {},
   "outputs": [
    {
     "name": "stdout",
     "output_type": "stream",
     "text": [
      "In-Genre Weight: 0.3866500841960266\n",
      "Out-Genre Weight: 0.6133499158039734\n"
     ]
    }
   ],
   "source": [
    "print(\"In-Genre Weight:\", in_genre_weight)\n",
    "print(\"Out-Genre Weight:\", out_genre_weight)\n"
   ]
  },
  {
   "attachments": {},
   "cell_type": "markdown",
   "metadata": {},
   "source": [
    "These weights represent the relative importance of in-genre and out-genre influences in the network based on the average eigenvector centralities. In this case, the in-genre weight is 0.3867 (approximately), and the out-genre weight is 0.6133 (approximately).\n",
    "\n",
    "Here's what these weights mean:\n",
    "\n",
    "In-Genre Weight (0.3867): This weight shows the importance of in-genre influence in the network. A higher value indicates that artists within the same genre have a greater impact on each other. In your case, the in-genre weight is 0.3867, which means that approximately 38.67% of the artists' influence in the network is attributed to in-genre relationships.\n",
    "Out-Genre Weight (0.6133): This weight indicates the importance of out-genre influence in the network. A higher value means that artists from different genres have a greater impact on each other. In your case, the out-genre weight is 0.6133, which means that approximately 61.33% of the artists' influence in the network is attributed to out-genre relationships.\n",
    "These weights show that out-genre influences are more significant in your network than in-genre influences. This suggests that artists from different genres have a more substantial impact on each other, promoting the exchange of ideas and creativity between genres."
   ]
  },
  {
   "attachments": {},
   "cell_type": "markdown",
   "metadata": {},
   "source": [
    "Now let us do the above work but now using betweenness centrality. "
   ]
  },
  {
   "cell_type": "code",
   "execution_count": 72,
   "metadata": {},
   "outputs": [
    {
     "name": "stdout",
     "output_type": "stream",
     "text": [
      "          Artist Name  In-Genre Influence Count  Out-Genre Influence Count  \\\n",
      "0         The Beatles                       553                         61   \n",
      "1           Bob Dylan                       322                         67   \n",
      "2  The Rolling Stones                       304                         15   \n",
      "3       Hank Williams                        97                         87   \n",
      "4         David Bowie                       224                         14   \n",
      "5        Jimi Hendrix                       151                         50   \n",
      "6         Marvin Gaye                        99                         70   \n",
      "7         Miles Davis                        83                         77   \n",
      "8        Led Zeppelin                       213                          8   \n",
      "9         James Brown                        78                         76   \n",
      "\n",
      "   Weighted Combined Influence Count  \n",
      "0                         227.787603  \n",
      "1                         153.444794  \n",
      "2                         112.970767  \n",
      "3                          90.389992  \n",
      "4                          85.189830  \n",
      "5                          84.238918  \n",
      "6                          79.830977  \n",
      "7                          79.033995  \n",
      "8                          77.494834  \n",
      "9                          76.677998  \n"
     ]
    }
   ],
   "source": [
    "import numpy as np\n",
    "\n",
    "# Create in-genre and out-genre influence subgraphs\n",
    "in_genre_edges = [(u, v) for u, v in G.edges() if G.nodes[u]['genre'] == G.nodes[v]['genre']]\n",
    "out_genre_edges = [(u, v) for u, v in G.edges() if G.nodes[u]['genre'] != G.nodes[v]['genre']]\n",
    "\n",
    "in_genre_G = G.edge_subgraph(in_genre_edges)\n",
    "out_genre_G = G.edge_subgraph(out_genre_edges)\n",
    "\n",
    "# Calculate betweenness centralities for both subgraphs\n",
    "in_genre_betweenness_centrality = nx.betweenness_centrality(in_genre_G)\n",
    "out_genre_betweenness_centrality = nx.betweenness_centrality(out_genre_G)\n",
    "\n",
    "# Compute the average betweenness centralities for in-genre and out-genre subgraphs\n",
    "avg_in_genre_centrality = np.mean(list(in_genre_betweenness_centrality.values()))\n",
    "avg_out_genre_centrality = np.mean(list(out_genre_betweenness_centrality.values()))\n",
    "\n",
    "# Normalize the average centralities to obtain the weights\n",
    "total_centrality = avg_in_genre_centrality + avg_out_genre_centrality\n",
    "in_genre_weight = avg_in_genre_centrality / total_centrality\n",
    "out_genre_weight = avg_out_genre_centrality / total_centrality\n",
    "\n",
    "# Calculate the weighted combined influence score for each artist\n",
    "results_df['Weighted Combined Influence Count'] = (results_df['In-Genre Influence Count'] * in_genre_weight) + (results_df['Out-Genre Influence Count'] * out_genre_weight)\n",
    "\n",
    "# Sort the DataFrame by the 'Weighted Combined Influence Count' column in descending order\n",
    "sorted_results_df_weighted = results_df.sort_values('Weighted Combined Influence Count', ascending=False)\n",
    "\n",
    "# Reset the index of the sorted DataFrame\n",
    "sorted_results_df_weighted.reset_index(drop=True, inplace=True)\n",
    "\n",
    "# Display the top artists in the sorted DataFrame\n",
    "print(sorted_results_df_weighted.head(10))\n"
   ]
  },
  {
   "attachments": {},
   "cell_type": "markdown",
   "metadata": {},
   "source": [
    "Comparison:\n",
    "\n",
    "The Beatles, Bob Dylan, and The Rolling Stones maintain their positions as the top 3 artists in both the Eigenvector and Betweenness Centrality calculations.\n",
    "Hank Williams has a higher ranking in the Betweenness Centrality calculation, moving up to 4th place compared to 5th in the Eigenvector Centrality calculation.\n",
    "David Bowie's position drops slightly from 3rd to 4th in the Betweenness Centrality calculation compared to the Eigenvector Centrality.\n",
    "Jimi Hendrix, Marvin Gaye, Miles Davis, and James Brown maintain their relative positions in both calculations.\n",
    "Led Zeppelin drops from 6th place in Eigenvector Centrality to 8th place in Betweenness Centrality.\n",
    "Comments:\n",
    "\n",
    "The results are fairly consistent between the Eigenvector and Betweenness Centrality calculations, indicating that the artist rankings are relatively robust to the choice of centrality measure.\n",
    "The differences in ranking, such as Hank Williams and Led Zeppelin, might suggest that these artists have a unique position within their respective influence networks when considering different centrality measures.\n",
    "The top artists in both calculations consistently have a high in-genre influence count, emphasizing their dominance within their own genres.\n",
    "Overall, the results show that the chosen weighting method, combined with different centrality measures, can provide a comprehensive understanding of the most influential artists across genres."
   ]
  },
  {
   "attachments": {},
   "cell_type": "markdown",
   "metadata": {},
   "source": [
    "Now let use look using degree centraliy. "
   ]
  },
  {
   "cell_type": "code",
   "execution_count": 73,
   "metadata": {},
   "outputs": [
    {
     "name": "stdout",
     "output_type": "stream",
     "text": [
      "              Artist Name  In-Genre Influence Count  \\\n",
      "0             The Beatles                       553   \n",
      "1               Bob Dylan                       322   \n",
      "2      The Rolling Stones                       304   \n",
      "3             David Bowie                       224   \n",
      "4            Led Zeppelin                       213   \n",
      "5               The Kinks                       191   \n",
      "6            Jimi Hendrix                       151   \n",
      "7          The Beach Boys                       179   \n",
      "8  The Velvet Underground                       175   \n",
      "9           Black Sabbath                       169   \n",
      "\n",
      "   Out-Genre Influence Count  Weighted Combined Influence Count  \n",
      "0                         61                         337.191788  \n",
      "1                         67                         210.148183  \n",
      "2                         15                         177.234607  \n",
      "3                         14                         131.886739  \n",
      "4                          8                         123.079912  \n",
      "5                          0                         107.220796  \n",
      "6                         50                         106.697908  \n",
      "7                          6                         103.116218  \n",
      "8                          6                         100.870756  \n",
      "9                          2                          95.748026  \n"
     ]
    }
   ],
   "source": [
    "import numpy as np\n",
    "\n",
    "# Create in-genre and out-genre influence subgraphs\n",
    "in_genre_edges = [(u, v) for u, v in G.edges() if G.nodes[u]['genre'] == G.nodes[v]['genre']]\n",
    "out_genre_edges = [(u, v) for u, v in G.edges() if G.nodes[u]['genre'] != G.nodes[v]['genre']]\n",
    "\n",
    "in_genre_G = G.edge_subgraph(in_genre_edges)\n",
    "out_genre_G = G.edge_subgraph(out_genre_edges)\n",
    "\n",
    "# Calculate degree centralities for both subgraphs\n",
    "in_genre_degree_centrality = nx.degree_centrality(in_genre_G)\n",
    "out_genre_degree_centrality = nx.degree_centrality(out_genre_G)\n",
    "\n",
    "# Compute the average degree centralities for in-genre and out-genre subgraphs\n",
    "avg_in_genre_centrality = np.mean(list(in_genre_degree_centrality.values()))\n",
    "avg_out_genre_centrality = np.mean(list(out_genre_degree_centrality.values()))\n",
    "\n",
    "# Normalize the average centralities to obtain the weights\n",
    "total_centrality = avg_in_genre_centrality + avg_out_genre_centrality\n",
    "in_genre_weight = avg_in_genre_centrality / total_centrality\n",
    "out_genre_weight = avg_out_genre_centrality / total_centrality\n",
    "\n",
    "# Calculate the weighted combined influence score for each artist\n",
    "results_df['Weighted Combined Influence Count'] = (results_df['In-Genre Influence Count'] * in_genre_weight) + (results_df['Out-Genre Influence Count'] * out_genre_weight)\n",
    "\n",
    "# Sort the DataFrame by the 'Weighted Combined Influence Count' column in descending order\n",
    "sorted_results_df_weighted = results_df.sort_values('Weighted Combined Influence Count', ascending=False)\n",
    "\n",
    "# Reset the index of the sorted DataFrame\n",
    "sorted_results_df_weighted.reset_index(drop=True, inplace=True)\n",
    "\n",
    "# Display the top artists in the sorted DataFrame\n",
    "print(sorted_results_df_weighted.head(10))\n"
   ]
  },
  {
   "attachments": {},
   "cell_type": "markdown",
   "metadata": {},
   "source": [
    "We can see that using degree centrality results some changes in the top 10 list. "
   ]
  }
 ],
 "metadata": {
  "kernelspec": {
   "display_name": "Python 3.8.8 ('base')",
   "language": "python",
   "name": "python3"
  },
  "language_info": {
   "codemirror_mode": {
    "name": "ipython",
    "version": 3
   },
   "file_extension": ".py",
   "mimetype": "text/x-python",
   "name": "python",
   "nbconvert_exporter": "python",
   "pygments_lexer": "ipython3",
   "version": "3.8.8"
  },
  "orig_nbformat": 4,
  "vscode": {
   "interpreter": {
    "hash": "ee459a524a0f4feebc430db76339f79d28cabbe4af7ab54f836ed57576b981e3"
   }
  }
 },
 "nbformat": 4,
 "nbformat_minor": 2
}
