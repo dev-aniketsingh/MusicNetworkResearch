{
 "cells": [
  {
   "cell_type": "code",
   "execution_count": 29,
   "metadata": {},
   "outputs": [],
   "source": [
    "import pandas as pd\n",
    "import networkx as nx\n",
    "from tabulate import tabulate\n",
    "from networkx.readwrite import write_gexf\n",
    "import numpy as np\n",
    "import matplotlib.pyplot as plt\n",
    "import seaborn as sns\n",
    "import networkx as nx\n",
    "from sklearn.model_selection import train_test_split\n",
    "from sklearn.linear_model import LinearRegression, Ridge, Lasso, ElasticNet, BayesianRidge\n",
    "from sklearn.metrics import mean_squared_error\n",
    "import random\n",
    "random.seed(42)\n"
   ]
  },
  {
   "cell_type": "markdown",
   "metadata": {},
   "source": [
    "## Part 1: Getting the data ready"
   ]
  },
  {
   "cell_type": "code",
   "execution_count": 2,
   "metadata": {},
   "outputs": [],
   "source": [
    "\n",
    "# Load the datasets\n",
    "influence_data = pd.read_csv(\"Data/influence_data.csv\")\n",
    "data_by_artist = pd.read_csv(\"Data/data_by_artist.csv\")"
   ]
  },
  {
   "cell_type": "code",
   "execution_count": 3,
   "metadata": {},
   "outputs": [
    {
     "name": "stdout",
     "output_type": "stream",
     "text": [
      "   influencer_id influencer_name influencer_main_genre  \\\n",
      "0         759491   The Exploited              Pop/Rock   \n",
      "1          25462          Tricky            Electronic   \n",
      "2          66915       Bob Dylan              Pop/Rock   \n",
      "3          71209   Leonard Cohen              Pop/Rock   \n",
      "4          91438    The Gun Club              Pop/Rock   \n",
      "\n",
      "   influencer_active_start  follower_id   follower_name follower_main_genre  \\\n",
      "0                     1980           74  Special Duties            Pop/Rock   \n",
      "1                     1990          335       PJ Harvey            Pop/Rock   \n",
      "2                     1960          335       PJ Harvey            Pop/Rock   \n",
      "3                     1950          335       PJ Harvey            Pop/Rock   \n",
      "4                     1980          335       PJ Harvey            Pop/Rock   \n",
      "\n",
      "   follower_active_start  \n",
      "0                   1980  \n",
      "1                   1990  \n",
      "2                   1990  \n",
      "3                   1990  \n",
      "4                   1990  \n"
     ]
    }
   ],
   "source": [
    "print(influence_data.head())"
   ]
  },
  {
   "cell_type": "code",
   "execution_count": 4,
   "metadata": {},
   "outputs": [],
   "source": [
    "# Create a dictionary for artist genres and years\n",
    "artist_genres = dict(zip(influence_data['influencer_id'], influence_data['influencer_main_genre']))\n",
    "artist_years = dict(zip(influence_data['influencer_id'], influence_data['influencer_active_start']))\n",
    "artist_genres.update(dict(zip(influence_data['follower_id'], influence_data['follower_main_genre'])))\n",
    "artist_years.update(dict(zip(influence_data['follower_id'], influence_data['follower_active_start'])))"
   ]
  },
  {
   "cell_type": "markdown",
   "metadata": {},
   "source": [
    "This code snippet creates two dictionaries, artist_genres and artist_years, to store the main genre and active start year for each artist, respectively.\n",
    "\n",
    "First, the zip() function is used to create pairs of influencer_id with influencer_main_genre and influencer_active_start. These pairs are then converted into dictionaries using the dict() function.\n",
    "The first dictionary artist_genres has artist IDs as keys and their main genres as values.\n",
    "The second dictionary artist_years has artist IDs as keys and their active start years as values.\n",
    "Next, the code updates these dictionaries with the follower data. zip() is used again to create pairs of follower_id with follower_main_genre and follower_active_start.\n",
    "The update() function is then used to add the new key-value pairs from followers to the existing dictionaries (artist_genres and artist_years). If a key (artist ID) is already present, its value will be updated with the new value from the follower data.\n",
    "At the end of this code snippet, we will have two dictionaries containing main genre and active start year information for all artists (both influencers and followers) in the dataset."
   ]
  },
  {
   "cell_type": "code",
   "execution_count": 5,
   "metadata": {},
   "outputs": [],
   "source": [
    "# Create the directed graph\n",
    "G = nx.DiGraph()\n",
    "\n",
    "# Add nodes with attributes\n",
    "for idx, row in data_by_artist.iterrows():\n",
    "    artist_id = row[\"artist_id\"]\n",
    "    G.add_node(artist_id, \n",
    "               artist_name=row[\"artist_name\"], \n",
    "               genre=artist_genres.get(artist_id, ''), \n",
    "               year=artist_years.get(artist_id, ''),\n",
    "               danceability=row[\"danceability\"],\n",
    "               energy=row[\"energy\"],\n",
    "               valence=row[\"valence\"],\n",
    "               tempo=row[\"tempo\"],\n",
    "               loudness=row[\"loudness\"],\n",
    "               acousticness=row[\"acousticness\"],\n",
    "               instrumentalness=row[\"instrumentalness\"],\n",
    "               liveness=row[\"liveness\"],\n",
    "               speechiness=row[\"speechiness\"],\n",
    "               duration_ms=row[\"duration_ms\"],\n",
    "               popularity=row[\"popularity\"])"
   ]
  },
  {
   "cell_type": "code",
   "execution_count": 6,
   "metadata": {},
   "outputs": [],
   "source": [
    "# Add edges with attributes\n",
    "for idx, row in influence_data.iterrows():\n",
    "    influencer_id = row[\"influencer_id\"]\n",
    "    follower_id = row[\"follower_id\"]\n",
    "\n",
    "    if G.has_node(influencer_id) and G.has_node(follower_id):\n",
    "        # Calculate differences in attributes\n",
    "        attr_diff = {}\n",
    "        for attr in [\"danceability\", \"energy\", \"valence\", \"tempo\", \"loudness\",\n",
    "                     \"acousticness\", \"instrumentalness\", \"liveness\", \"speechiness\",\n",
    "                     \"duration_ms\", \"popularity\"]:\n",
    "            attr_diff[attr + \"_diff\"] = abs(G.nodes[influencer_id][attr] - G.nodes[follower_id][attr])\n",
    "\n",
    "        # Add the edge with attribute differences\n",
    "        G.add_edge(influencer_id, follower_id, **attr_diff)"
   ]
  },
  {
   "cell_type": "code",
   "execution_count": 7,
   "metadata": {},
   "outputs": [
    {
     "name": "stdout",
     "output_type": "stream",
     "text": [
      "Number of nodes: 5854\n",
      "Number of edges: 42752\n",
      "Node 2732005 attributes: {'artist_name': 'Zendaya', 'genre': 'Pop/Rock', 'year': 2010, 'danceability': 0.5904375, 'energy': 0.707625, 'valence': 0.3544375, 'tempo': 116.249, 'loudness': -7.0725625, 'acousticness': 0.072864937, 'instrumentalness': 0.00351835, 'liveness': 0.23346875, 'speechiness': 0.0733625, 'duration_ms': 214595.125, 'popularity': 64.3125}\n",
      "Edge (759491, 74) attributes: {'danceability_diff': 0.21628571399999996, 'energy_diff': 0.005428570999999938, 'valence_diff': 0.06771428600000001, 'tempo_diff': 18.563999999999993, 'loudness_diff': 0.289285714, 'acousticness_diff': 0.010574713999999999, 'instrumentalness_diff': 0.0021927789999999997, 'liveness_diff': 0.11625714299999998, 'speechiness_diff': 0.106171429, 'duration_ms_diff': 52475.71429999999, 'popularity_diff': 5.714285709999999}\n"
     ]
    }
   ],
   "source": [
    "# Print the number of nodes and edges in the graph\n",
    "print(f\"Number of nodes: {G.number_of_nodes()}\")\n",
    "print(f\"Number of edges: {G.number_of_edges()}\")\n",
    "\n",
    "# Print information about a specific node\n",
    "node_id = 2732005  # Replace this with an actual artist ID from your dataset\n",
    "if G.has_node(node_id):\n",
    "    print(f\"Node {node_id} attributes: {G.nodes[node_id]}\")\n",
    "else:\n",
    "    print(f\"Node {node_id} not found in the graph\")\n",
    "\n",
    "# Print information about a specific edge\n",
    "source_id = 759491 # Replace this with an actual influencer ID from your dataset\n",
    "target_id = 74  # Replace this with an actual follower ID from your dataset\n",
    "if G.has_edge(source_id, target_id):\n",
    "    print(f\"Edge ({source_id}, {target_id}) attributes: {G.edges[source_id, target_id]}\")\n",
    "else:\n",
    "    print(f\"Edge ({source_id}, {target_id}) not found in the graph\")\n"
   ]
  },
  {
   "cell_type": "code",
   "execution_count": 8,
   "metadata": {},
   "outputs": [],
   "source": [
    "# Save the graph in GEXF format for Gephi. We can directly import this into Gephi. \n",
    "# write_gexf(G, \"influence_network.gexf\")"
   ]
  },
  {
   "cell_type": "markdown",
   "metadata": {},
   "source": [
    "In our orginal influence_data we have 42770 edges but the combined graph G has only 42752 edges as we can see below. "
   ]
  },
  {
   "cell_type": "code",
   "execution_count": 9,
   "metadata": {},
   "outputs": [
    {
     "name": "stdout",
     "output_type": "stream",
     "text": [
      "Number of edges in influence_data: 42770\n",
      "Number of edges in the graph: 42752\n",
      "Missing edges in the graph: {(642542, 477787), (483587, 477787), (58549, 477787), (182900, 477787), (41874, 477787), (139089, 477787), (162197, 477787), (43714, 477787), (87179, 477787), (754032, 477787), (129761, 477787), (100160, 477787), (790732, 477787), (51992, 477787), (501802, 477787), (61172, 477787), (582313, 477787), (489209, 477787)}\n"
     ]
    }
   ],
   "source": [
    "influence_data_edges = {(row['influencer_id'], row['follower_id']) for _, row in influence_data.iterrows()}\n",
    "graph_edges = set(G.edges)\n",
    "\n",
    "print(f\"Number of edges in influence_data: {len(influence_data_edges)}\")\n",
    "print(f\"Number of edges in the graph: {len(graph_edges)}\")\n",
    "\n",
    "# Check for differences between the two sets of edges\n",
    "missing_edges = influence_data_edges - graph_edges\n",
    "if missing_edges:\n",
    "    print(f\"Missing edges in the graph: {missing_edges}\")\n",
    "else:\n",
    "    print(\"All edges from influence_data are present in the graph.\")\n"
   ]
  },
  {
   "cell_type": "markdown",
   "metadata": {},
   "source": [
    "It appears that there are some edges present in the influence_data dataset that are not present in the graph. One possible reason for this discrepancy is that some of the artist IDs in the influence_data dataset do not have corresponding entries in the data_by_artist dataset. When we tried to merge the datasets, those rows were excluded, causing the edges to be missing from the graph.\n",
    "\n",
    "To investigate this issue further, you can check if the artists involved in the missing edges are present in the data_by_artist dataset:"
   ]
  },
  {
   "cell_type": "code",
   "execution_count": 10,
   "metadata": {},
   "outputs": [
    {
     "name": "stdout",
     "output_type": "stream",
     "text": [
      "Missing artist IDs: {477787}\n"
     ]
    }
   ],
   "source": [
    "missing_artist_ids = set()\n",
    "\n",
    "for edge in missing_edges:\n",
    "    influencer_id, follower_id = edge\n",
    "    if influencer_id not in data_by_artist['artist_id'].values:\n",
    "        missing_artist_ids.add(influencer_id)\n",
    "    if follower_id not in data_by_artist['artist_id'].values:\n",
    "        missing_artist_ids.add(follower_id)\n",
    "\n",
    "print(f\"Missing artist IDs: {missing_artist_ids}\")\n"
   ]
  },
  {
   "cell_type": "markdown",
   "metadata": {},
   "source": [
    "It seems that the artist with ID 477787 is missing from the artist_data DataFrame, which is causing the discrepancy between the number of edges in the original influence_data and the exported graph. \n",
    "Upon investigating, the artist with ID 477787 is \" The New Pornographers\" which is included in the influence_data but does not have a record in data_by_artist. "
   ]
  },
  {
   "cell_type": "markdown",
   "metadata": {},
   "source": [
    "## Part 2 : Analyzing the influence\n",
    "Examine the distribution of the differences in musical characteristics for all edges in the network to get an overall understanding of how artists influence each other.\n",
    "Identify patterns of influence, such as which characteristics are more likely to be influenced or whether certain genres show stronger influence patterns than others."
   ]
  },
  {
   "cell_type": "code",
   "execution_count": 11,
   "metadata": {},
   "outputs": [],
   "source": [
    "import numpy as np\n",
    "import matplotlib.pyplot as plt\n",
    "from collections import defaultdict\n",
    "import seaborn as sns\n"
   ]
  },
  {
   "cell_type": "markdown",
   "metadata": {},
   "source": [
    "To analyze the influence and identify patterns, we can use the network data and the edge attributes that store the differences in musical characteristics."
   ]
  },
  {
   "cell_type": "code",
   "execution_count": 12,
   "metadata": {},
   "outputs": [],
   "source": [
    "#Extract the differences in musical characteristics for all edges:\n",
    "energy_diffs = []\n",
    "valence_diffs = []\n",
    "tempo_diffs = []\n",
    "\n",
    "for edge in G.edges(data=True):\n",
    "    energy_diffs.append(edge[2]['energy_diff'])\n",
    "    valence_diffs.append(edge[2]['valence_diff'])\n",
    "    tempo_diffs.append(edge[2]['tempo_diff'])\n"
   ]
  },
  {
   "cell_type": "markdown",
   "metadata": {},
   "source": [
    "In this code snippet, we are iterating through all the edges in the graph G. The edges() method returns an iterator over the edges in the graph. By setting the data=True parameter, we get an edge view of the graph with edge attributes as a dictionary.\n",
    "\n",
    "Here, edge is a tuple with three elements:\n",
    "\n",
    "edge[0] is the source node (influencer) of the edge.\n",
    "edge[1] is the target node (follower) of the edge.\n",
    "edge[2] is a dictionary containing the edge attributes, which are the differences in musical characteristics between the influencer and the follower.\n",
    "\n",
    "Here, we collect the differences in energy, valence, and tempo for all edges in the graph, so we can analyze the distribution of these differences later. This will give us insights into how the musical characteristics change between influencers and followers in the network."
   ]
  },
  {
   "cell_type": "code",
   "execution_count": 13,
   "metadata": {},
   "outputs": [
    {
     "data": {
      "image/png": "[encoded data removed]",
      "text/plain": [
       "<Figure size 432x288 with 1 Axes>"
      ]
     },
     "metadata": {
      "needs_background": "light"
     },
     "output_type": "display_data"
    },
    {
     "data": {
      "image/png": "[encoded data removed]",
      "text/plain": [
       "<Figure size 432x288 with 1 Axes>"
      ]
     },
     "metadata": {
      "needs_background": "light"
     },
     "output_type": "display_data"
    },
    {
     "data": {
      "image/png": "[encoded data removed]",
      "text/plain": [
       "<Figure size 432x288 with 1 Axes>"
      ]
     },
     "metadata": {
      "needs_background": "light"
     },
     "output_type": "display_data"
    }
   ],
   "source": [
    "#Analyze the distribution of the differences.T\n",
    "#This code will plot histograms for the differences of each attribute in the graph, allowing us to analyze the distribution of differences for all edges in the network.\n",
    "\n",
    "plt.hist(energy_diffs, bins=50)\n",
    "plt.title('Energy Differences Distribution')\n",
    "plt.xlabel('Energy Difference')\n",
    "plt.ylabel('Frequency')\n",
    "plt.show()\n",
    "\n",
    "plt.hist(valence_diffs, bins=50)\n",
    "plt.title('Valence Differences Distribution')\n",
    "plt.xlabel('Valence Difference')\n",
    "plt.ylabel('Frequency')\n",
    "plt.show()\n",
    "\n",
    "plt.hist(tempo_diffs, bins=50)\n",
    "plt.title('Tempo Differences Distribution')\n",
    "plt.xlabel('Tempo Difference')\n",
    "plt.ylabel('Frequency')\n",
    "plt.show()\n"
   ]
  },
  {
   "cell_type": "code",
   "execution_count": 14,
   "metadata": {},
   "outputs": [
    {
     "name": "stdout",
     "output_type": "stream",
     "text": [
      "Vocal: {'avg_energy_diff': 0.16835961877157002, 'avg_valence_diff': 0.16896830338896748, 'avg_tempo_diff': 14.005173418330976}\n",
      "Country: {'avg_energy_diff': 0.1671514653541351, 'avg_valence_diff': 0.13772586284610724, 'avg_tempo_diff': 13.47820823295668}\n",
      "Pop/Rock: {'avg_energy_diff': 0.14233268728765078, 'avg_valence_diff': 0.149716472980102, 'avg_tempo_diff': 14.398816190492475}\n",
      "Classical: {'avg_energy_diff': 0.23916003824561402, 'avg_valence_diff': 0.1821367202982456, 'avg_tempo_diff': 15.524527842280705}\n",
      "Jazz: {'avg_energy_diff': 0.174469532326215, 'avg_valence_diff': 0.17241025937407953, 'avg_tempo_diff': 13.483138266222387}\n",
      "International: {'avg_energy_diff': 0.1897133445304878, 'avg_valence_diff': 0.1892617012347561, 'avg_tempo_diff': 19.568003544939025}\n",
      "Reggae: {'avg_energy_diff': 0.14063896522704716, 'avg_valence_diff': 0.11420023035856079, 'avg_tempo_diff': 19.11383389362283}\n",
      "R&B;: {'avg_energy_diff': 0.12961361308336347, 'avg_valence_diff': 0.14598131300180833, 'avg_tempo_diff': 11.672454973806511}\n",
      "Latin: {'avg_energy_diff': 0.15274638026409018, 'avg_valence_diff': 0.14507595023671496, 'avg_tempo_diff': 13.0405068152657}\n",
      "Stage & Screen: {'avg_energy_diff': 0.16444611578688526, 'avg_valence_diff': 0.15723321728415302, 'avg_tempo_diff': 16.52594090617486}\n",
      "Avant-Garde: {'avg_energy_diff': 0.23221286910126582, 'avg_valence_diff': 0.2626099219873418, 'avg_tempo_diff': 16.93056621341772}\n",
      "Easy Listening: {'avg_energy_diff': 0.1704028105, 'avg_valence_diff': 0.20972265813157892, 'avg_tempo_diff': 13.90575655144737}\n",
      "Blues: {'avg_energy_diff': 0.1682007564328238, 'avg_valence_diff': 0.13261281144328238, 'avg_tempo_diff': 16.17890166934031}\n",
      "Folk: {'avg_energy_diff': 0.18955207753861386, 'avg_valence_diff': 0.14389817928811882, 'avg_tempo_diff': 14.379784716910892}\n",
      "Religious: {'avg_energy_diff': 0.16008557431578946, 'avg_valence_diff': 0.1696138176153846, 'avg_tempo_diff': 16.402071210607286}\n",
      "Electronic: {'avg_energy_diff': 0.15383986718450704, 'avg_valence_diff': 0.17789365917746477, 'avg_tempo_diff': 14.836914906197185}\n",
      "New Age: {'avg_energy_diff': 0.1865242624468085, 'avg_valence_diff': 0.17147184077659572, 'avg_tempo_diff': 24.717528636702127}\n",
      "Comedy/Spoken: {'avg_energy_diff': 0.2205044601315789, 'avg_valence_diff': 0.17368743612500004, 'avg_tempo_diff': 18.671448975131582}\n",
      "Children's: {'avg_energy_diff': 0.25053489700000003, 'avg_valence_diff': 0.13258462433333332, 'avg_tempo_diff': 15.490040200000005}\n",
      "Unknown: {'avg_energy_diff': 0.03664999999999999, 'avg_valence_diff': 0.2053623075, 'avg_tempo_diff': 22.329723099999995}\n"
     ]
    }
   ],
   "source": [
    "#Examine the influence patterns by genre\n",
    "\n",
    "\n",
    "genre_influence = defaultdict(lambda: defaultdict(list))\n",
    "\n",
    "for edge in G.edges(data=True):\n",
    "    influencer_genre = artist_genres[edge[0]]\n",
    "    genre_influence[influencer_genre]['energy_diff'].append(edge[2]['energy_diff'])\n",
    "    genre_influence[influencer_genre]['valence_diff'].append(edge[2]['valence_diff'])\n",
    "    genre_influence[influencer_genre]['tempo_diff'].append(edge[2]['tempo_diff'])\n",
    "\n",
    "# Calculate the average difference in each characteristic by genre\n",
    "genre_influence_summary = {}\n",
    "for genre, influence_data in genre_influence.items():\n",
    "    genre_influence_summary[genre] = {\n",
    "        'avg_energy_diff': np.mean(influence_data['energy_diff']),\n",
    "        'avg_valence_diff': np.mean(influence_data['valence_diff']),\n",
    "        'avg_tempo_diff': np.mean(influence_data['tempo_diff']),\n",
    "    }\n",
    "\n",
    "# Display the results\n",
    "for genre, summary in genre_influence_summary.items():\n",
    "    print(f\"{genre}: {summary}\")\n"
   ]
  },
  {
   "cell_type": "markdown",
   "metadata": {},
   "source": [
    "A better way to visualize the results would be to use a bar plot to display the average differences in each characteristic by genre."
   ]
  },
  {
   "cell_type": "code",
   "execution_count": 15,
   "metadata": {},
   "outputs": [
    {
     "data": {
      "image/png": "[encoded data removed]",
      "text/plain": [
       "<Figure size 1440x432 with 3 Axes>"
      ]
     },
     "metadata": {
      "needs_background": "light"
     },
     "output_type": "display_data"
    }
   ],
   "source": [
    "\n",
    "# Convert the genre_influence_summary to a pandas DataFrame\n",
    "summary_df = pd.DataFrame(genre_influence_summary).T.reset_index().rename(columns={'index': 'genre'})\n",
    "\n",
    "# Create a bar plot for each characteristic\n",
    "fig, axes = plt.subplots(nrows=1, ncols=3, figsize=(20, 6))\n",
    "\n",
    "sns.barplot(x='genre', y='avg_energy_diff', data=summary_df, ax=axes[0])\n",
    "axes[0].set_title('Average Energy Difference')\n",
    "axes[0].set_xticklabels(axes[0].get_xticklabels(), rotation=90)\n",
    "\n",
    "sns.barplot(x='genre', y='avg_valence_diff', data=summary_df, ax=axes[1])\n",
    "axes[1].set_title('Average Valence Difference')\n",
    "axes[1].set_xticklabels(axes[1].get_xticklabels(), rotation=90)\n",
    "\n",
    "sns.barplot(x='genre', y='avg_tempo_diff', data=summary_df, ax=axes[2])\n",
    "axes[2].set_title('Average Tempo Difference')\n",
    "axes[2].set_xticklabels(axes[2].get_xticklabels(), rotation=90)\n",
    "\n",
    "plt.tight_layout()\n",
    "plt.show()\n"
   ]
  },
  {
   "cell_type": "markdown",
   "metadata": {},
   "source": [
    "The insights derived from the bar plots would help us understand the patterns of influence among different genres in terms of the average differences in musical characteristics (energy, valence, and tempo). Specifically, you would be able to identify:\n",
    "\n",
    "The extent of influence: By observing the height of the bars in the plots, we can determine how much influence one genre has on others. Larger average differences may indicate a weaker influence, while smaller average differences could suggest a stronger influence.\n",
    "\n",
    "Genre-specific trends: By comparing the bars across different genres, we can identify which genres have a stronger influence on their followers in terms of specific musical characteristics. For instance, if a certain genre consistently shows small average differences across energy, valence, and tempo, it may be a highly influential genre in the music industry.\n",
    "\n",
    "Characteristics prone to influence: By comparing the average differences across the three characteristics (energy, valence, and tempo), we can identify which characteristics are more likely to be influenced. For example, if the average differences for energy are generally smaller than those for valence and tempo, it could suggest that energy is a characteristic that is more likely to be influenced by other artists.\n",
    "These insights can help us better understand how artists from different genres influence each other's music and which musical characteristics are more susceptible to influence. Additionally, this analysis can provide a basis for further exploration, such as investigating the reasons behind specific influence patterns or examining other factors that may affect the strength of influence, such as the time period or artist popularity."
   ]
  },
  {
   "cell_type": "markdown",
   "metadata": {},
   "source": [
    "The extent of influence refers to the degree to which one artist's music has an impact on the music of another artist, particularly in terms of specific musical characteristics. In this case, we are examining energy, valence, and tempo. When we calculate the average differences in these characteristics between influencer and follower artists, we can gauge the extent of influence.\n",
    "\n",
    "If the average differences are smaller, it suggests that the follower's music is closer in characteristics to that of the influencer, indicating a stronger influence. In other words, the follower has likely been more heavily influenced by the music of the influencer, resulting in similar musical characteristics.\n",
    "\n",
    "On the other hand, if the average differences are larger, it means that the music of the follower is more dissimilar to that of the influencer in terms of the examined characteristics. This suggests a weaker influence, as the follower's music may be less impacted by the influencer's music, resulting in greater disparities in characteristics.\n",
    "\n",
    "By observing the height of the bars in the plots, you can visualize these average differences and determine the extent of influence across genres. Shorter bars represent smaller average differences and therefore stronger influence, while taller bars indicate larger average differences and weaker influence. Comparing these bars allows you to identify which genres have stronger or weaker influences on others in terms of the specific musical characteristics being analyzed."
   ]
  },
  {
   "cell_type": "code",
   "execution_count": 16,
   "metadata": {},
   "outputs": [
    {
     "data": {
      "image/png": "[encoded data removed]",
      "text/plain": [
       "<Figure size 432x288 with 1 Axes>"
      ]
     },
     "metadata": {
      "needs_background": "light"
     },
     "output_type": "display_data"
    },
    {
     "data": {
      "image/png": "[encoded data removed]",
      "text/plain": [
       "<Figure size 432x288 with 1 Axes>"
      ]
     },
     "metadata": {
      "needs_background": "light"
     },
     "output_type": "display_data"
    },
    {
     "data": {
      "image/png": "[encoded data removed]",
      "text/plain": [
       "<Figure size 432x288 with 1 Axes>"
      ]
     },
     "metadata": {
      "needs_background": "light"
     },
     "output_type": "display_data"
    },
    {
     "data": {
      "image/png": "[encoded data removed]",
      "text/plain": [
       "<Figure size 432x288 with 1 Axes>"
      ]
     },
     "metadata": {
      "needs_background": "light"
     },
     "output_type": "display_data"
    },
    {
     "data": {
      "image/png": "[encoded data removed]",
      "text/plain": [
       "<Figure size 432x288 with 1 Axes>"
      ]
     },
     "metadata": {
      "needs_background": "light"
     },
     "output_type": "display_data"
    },
    {
     "data": {
      "image/png": "[encoded data removed]",
      "text/plain": [
       "<Figure size 432x288 with 1 Axes>"
      ]
     },
     "metadata": {
      "needs_background": "light"
     },
     "output_type": "display_data"
    },
    {
     "data": {
      "image/png": "[encoded data removed]",
      "text/plain": [
       "<Figure size 432x288 with 1 Axes>"
      ]
     },
     "metadata": {
      "needs_background": "light"
     },
     "output_type": "display_data"
    },
    {
     "data": {
      "image/png": "[encoded data removed]",
      "text/plain": [
       "<Figure size 432x288 with 1 Axes>"
      ]
     },
     "metadata": {
      "needs_background": "light"
     },
     "output_type": "display_data"
    },
    {
     "data": {
      "image/png": "[encoded data removed]",
      "text/plain": [
       "<Figure size 432x288 with 1 Axes>"
      ]
     },
     "metadata": {
      "needs_background": "light"
     },
     "output_type": "display_data"
    },
    {
     "data": {
      "image/png": "[encoded data removed]",
      "text/plain": [
       "<Figure size 432x288 with 1 Axes>"
      ]
     },
     "metadata": {
      "needs_background": "light"
     },
     "output_type": "display_data"
    },
    {
     "data": {
      "image/png": "[encoded data removed]",
      "text/plain": [
       "<Figure size 432x288 with 1 Axes>"
      ]
     },
     "metadata": {
      "needs_background": "light"
     },
     "output_type": "display_data"
    }
   ],
   "source": [
    "#If we want to analyze all the attributes at once\n",
    "attribute_diffs = defaultdict(list)\n",
    "\n",
    "for edge in G.edges(data=True):\n",
    "    for attr in [\"danceability\", \"energy\", \"valence\", \"tempo\", \"loudness\",\n",
    "                 \"acousticness\", \"instrumentalness\", \"liveness\", \"speechiness\",\n",
    "                 \"duration_ms\", \"popularity\"]:\n",
    "        attribute_diffs[attr].append(edge[2][attr + \"_diff\"])\n",
    "\n",
    "# Plot histograms for each attribute\n",
    "for attr, diffs in attribute_diffs.items():\n",
    "    plt.hist(diffs, bins=50)\n",
    "    plt.title(f'{attr.capitalize()} Differences')\n",
    "    plt.xlabel(f'{attr.capitalize()} Difference')\n",
    "    plt.ylabel('Frequency')\n",
    "    plt.show()"
   ]
  },
  {
   "cell_type": "markdown",
   "metadata": {},
   "source": [
    "Analyzing the distribution of the differences in musical characteristics between influencers and followers in the network can provide insights into various aspects of the influence relationship. Some of the information you can gather from the distribution includes:\n",
    "\n",
    "Central tendency: You can identify the mean, median, or mode of the distribution, which can tell you the average difference in a musical characteristic between influencers and followers. This can help you understand the general trend in how much a particular characteristic changes when one artist influences another.\n",
    "\n",
    "Dispersion: Measures like standard deviation, variance, or interquartile range can help you understand the spread of the differences in musical characteristics. A higher dispersion indicates that the influence varies greatly among artists, while a lower dispersion means that the influence is more consistent across the network.\n",
    "\n",
    "Skewness: Skewness of the distribution can tell you if the differences are symmetric around the mean or if there is a tendency for the differences to be larger or smaller than the mean. This can give you insights into whether the influence is predominantly in one direction, i.e., increasing or decreasing a particular characteristic.\n",
    "\n",
    "Outliers: By analyzing outliers in the distribution, you can identify specific influencer-follower pairs that show an unusually large or small difference in a musical characteristic. These outliers can be interesting cases to investigate further to understand unique influence patterns.\n",
    "\n",
    "Distribution shape: The shape of the distribution can reveal underlying patterns in the data. For example, a bimodal distribution might suggest that there are two distinct groups of artists in the network with different influence patterns.\n",
    "\n",
    "By examining the distribution of the differences in musical characteristics, you can gain a deeper understanding of how artists influence each other in terms of these characteristics. You can also identify potential patterns and trends that can be further analyzed to uncover the underlying mechanisms driving the influence."
   ]
  },
  {
   "cell_type": "markdown",
   "metadata": {},
   "source": [
    "Now let us rank the most influencing artists based on the average differences. \n",
    "The following code calculates the sum of the differences in energy, valence, and tempo for each influencer across all their followers. Then, it sorts the influencers based on this sum and selects the top 10 influencers with the smallest sum. Finally, it prints out the top 10 influencers along with their total difference value.\n",
    "\n",
    "Please note that this is just an example that considers the differences in energy, valence, and tempo. We can modify the list of attributes in the code to include other musical characteristics if desired."
   ]
  },
  {
   "cell_type": "code",
   "execution_count": 17,
   "metadata": {},
   "outputs": [
    {
     "name": "stdout",
     "output_type": "stream",
     "text": [
      "The West Coast Pop Art Experimental Band (ID: 482572): Total difference = 0.1693226180000057\n",
      "JoaquÃ­n Sabina (ID: 143559): Total difference = 0.25610633700000496\n",
      "Zedd (ID: 2782403): Total difference = 0.3524692490000058\n",
      "Dallas Holm (ID: 567374): Total difference = 0.3922499659999962\n",
      "Martin Gore (ID: 318966): Total difference = 0.40400000000000014\n",
      "Paul Weston (ID: 29609): Total difference = 0.41942832600000046\n",
      "Miles Davis Quintet (ID: 424302): Total difference = 0.47069420000000184\n",
      "Stan Levey (ID: 6563): Total difference = 0.5241333629999855\n",
      "Harry \"Sweets\" Edison (ID: 670641): Total difference = 0.5479224850000054\n",
      "t.A.T.u. (ID: 1113): Total difference = 0.5828332999999994\n"
     ]
    }
   ],
   "source": [
    "influencer_difference_sum = defaultdict(float)\n",
    "\n",
    "for edge in G.edges(data=True):\n",
    "    influencer_id = edge[0]\n",
    "    total_diff = sum([edge[2][attr + \"_diff\"] for attr in [\"energy\", \"valence\", \"tempo\"]])\n",
    "    influencer_difference_sum[influencer_id] += total_diff\n",
    "\n",
    "# Sort the influencers by the sum of differences\n",
    "sorted_influencers = sorted(influencer_difference_sum.items(), key=lambda x: x[1])\n",
    "\n",
    "# Get the top 10 influencers\n",
    "top_influencers = sorted_influencers[:10]\n",
    "\n",
    "# Print the top 10 influencers\n",
    "for influencer_id, total_diff in top_influencers:\n",
    "    influencer_name = G.nodes[influencer_id]['artist_name']\n",
    "    print(f\"{influencer_name} (ID: {influencer_id}): Total difference = {total_diff}\")\n"
   ]
  },
  {
   "cell_type": "markdown",
   "metadata": {},
   "source": [
    "Now how about top influencers in each musical charactersitcs.\n",
    " The following code calculates the sum of differences for each influencer and each musical characteristic (energy, valence, and tempo) separately. Then, it sorts the influencers for each attribute based on the sum of differences and selects the top 3 influencers with the smallest sum. Finally, it prints out the top 3 influencers for each attribute along with their total difference value.\n",
    "\n",
    "Please note that this example considers the differences in energy, valence, and tempo. We can modify the list of attributes in the code to include other musical characteristics if desired."
   ]
  },
  {
   "cell_type": "code",
   "execution_count": 18,
   "metadata": {},
   "outputs": [
    {
     "name": "stdout",
     "output_type": "stream",
     "text": [
      "Top 3 influencers for energy:\n",
      "  Bappi Lahiri (ID: 122037): Total energy difference = 0.0006666670000000652\n",
      "  Mudvayne (ID: 509156): Total energy difference = 0.0012092729999999552\n",
      "  Vengaboys (ID: 840708): Total energy difference = 0.00172222199999994\n",
      "Top 3 influencers for valence:\n",
      "  Freda Payne (ID: 796710): Total valence difference = 0.0002857139999999925\n",
      "  Tracy Bonham (ID: 11046): Total valence difference = 0.0007657660000000011\n",
      "  King Floyd (ID: 90169): Total valence difference = 0.0009090910000000285\n",
      "Top 3 influencers for tempo:\n",
      "  Martin Gore (ID: 318966): Total tempo difference = 0.006000000000000227\n",
      "  Dallas Holm (ID: 567374): Total tempo difference = 0.023083299999996143\n",
      "  JoaquÃ­n Sabina (ID: 143559): Total tempo difference = 0.0251793000000049\n"
     ]
    }
   ],
   "source": [
    "\n",
    "\n",
    "# Initialize a dictionary to store the difference sums for each attribute\n",
    "attribute_difference_sums = {attr: defaultdict(float) for attr in [\"energy\", \"valence\", \"tempo\"]}\n",
    "\n",
    "# Calculate the sum of differences for each influencer and each attribute\n",
    "for edge in G.edges(data=True):\n",
    "    influencer_id = edge[0]\n",
    "    for attr in attribute_difference_sums.keys():\n",
    "        attribute_difference_sums[attr][influencer_id] += edge[2][f\"{attr}_diff\"]\n",
    "\n",
    "# Get the top 3 influencers for each attribute\n",
    "top_influencers_by_attribute = {\n",
    "    attr: sorted(difference_sums.items(), key=lambda x: x[1])[:3]\n",
    "    for attr, difference_sums in attribute_difference_sums.items()\n",
    "}\n",
    "\n",
    "# Print the top 3 influencers for each attribute\n",
    "for attr, top_influencers in top_influencers_by_attribute.items():\n",
    "    print(f\"Top 3 influencers for {attr}:\")\n",
    "    for influencer_id, total_diff in top_influencers:\n",
    "        influencer_name = G.nodes[influencer_id]['artist_name']\n",
    "        print(f\"  {influencer_name} (ID: {influencer_id}): Total {attr} difference = {total_diff}\")\n"
   ]
  },
  {
   "cell_type": "code",
   "execution_count": 19,
   "metadata": {},
   "outputs": [],
   "source": [
    "musical_characteristics = [\n",
    "    'energy',\n",
    "    'valence',\n",
    "    'tempo',\n",
    "    'loudness',\n",
    "    'acousticness',\n",
    "    'instrumentalness',\n",
    "    'liveness',\n",
    "    'speechiness',\n",
    "    'duration_ms',\n",
    "    'popularity',\n",
    "    'danceability'\n",
    "]\n",
    "\n",
    "\n",
    "genre_weight = 0.4\n",
    "outside_genre_weight = 0.6"
   ]
  },
  {
   "cell_type": "code",
   "execution_count": 30,
   "metadata": {},
   "outputs": [],
   "source": [
    "from sklearn.linear_model import LinearRegression, Ridge, Lasso, ElasticNet, BayesianRidge\n",
    "from sklearn.metrics import mean_squared_error\n",
    "from sklearn.model_selection import train_test_split\n",
    "\n",
    "\n",
    "def train_linear_regression(X_train, y_train):\n",
    "    model = LinearRegression()\n",
    "    model.fit(X_train, y_train)\n",
    "    return model\n",
    "\n",
    "def train_ridge_regression(X_train, y_train):\n",
    "    model = Ridge(alpha=0.1)\n",
    "    model.fit(X_train, y_train)\n",
    "    return model\n",
    "\n",
    "def train_lasso_regression(X_train, y_train):\n",
    "    model = Lasso(alpha=0.1)\n",
    "    model.fit(X_train, y_train)\n",
    "    return model\n",
    "\n",
    "def train_elastic_net_regression(X_train, y_train):\n",
    "    model = ElasticNet(alpha=0.1, l1_ratio=0.5)\n",
    "    model.fit(X_train, y_train)\n",
    "    return model\n",
    "\n",
    "def train_bayesian_ridge_regression(X_train, y_train):\n",
    "    model = BayesianRidge()\n",
    "    model.fit(X_train, y_train)\n",
    "    return model\n",
    "\n",
    "def evaluate_model(model, X_test, y_test):\n",
    "    y_pred = model.predict(X_test)\n",
    "    mse = mean_squared_error(y_test, y_pred)\n",
    "    return mse\n"
   ]
  },
  {
   "cell_type": "code",
   "execution_count": 31,
   "metadata": {},
   "outputs": [
    {
     "name": "stdout",
     "output_type": "stream",
     "text": [
      "linear_regression MSE: 0.00010998190671631953\n",
      "\n",
      "ridge_regression MSE: 0.00010998188362657878\n",
      "\n",
      "lasso_regression MSE: 0.00011366212490233118\n",
      "\n",
      "elastic_net_regression MSE: 0.0001136619485143928\n",
      "\n",
      "bayesian_ridge_regression MSE: 0.0001099813186497367\n",
      "\n",
      "The best model is BayesianRidge with an MSE of 0.0001099813186497367\n"
     ]
    }
   ],
   "source": [
    "# Generate the feature matrix and target vector\n",
    "eigenvector_centrality_scores = nx.eigenvector_centrality(G)\n",
    "\n",
    "# Initialize empty lists to store the features and labels for the regression models\n",
    "features = []\n",
    "labels = []\n",
    "\n",
    "# Loop over each edge in the graph\n",
    "for edge in G.edges(data=True):\n",
    "    \n",
    "    # Append the difference in musical characteristics for each attribute for the edge to the features list\n",
    "    features.append([edge[2][attr + '_diff'] for attr in musical_characteristics])\n",
    "    \n",
    "    # Get the eigenvector centrality score for the influencer and follower nodes in the current edge\n",
    "    influencer_centrality = eigenvector_centrality_scores[edge[0]]\n",
    "    follower_centrality = eigenvector_centrality_scores[edge[1]]\n",
    "    \n",
    "    # Compute the average of the eigenvector centrality scores of the influencer and follower nodes and append it to the labels list\n",
    "    labels.append((influencer_centrality + follower_centrality) / 2)\n",
    "\n",
    "# Split the data into training and testing sets\n",
    "X_train, X_test, y_train, y_test = train_test_split(features, labels, test_size=0.2, random_state=42)\n",
    "\n",
    "# Train the regression models\n",
    "models = {}\n",
    "models['linear_regression'] = train_linear_regression(X_train, y_train)\n",
    "models['ridge_regression'] = train_ridge_regression(X_train, y_train)\n",
    "models['lasso_regression'] = train_lasso_regression(X_train, y_train)\n",
    "models['elastic_net_regression'] = train_elastic_net_regression(X_train, y_train)\n",
    "models['bayesian_ridge_regression'] = train_bayesian_ridge_regression(X_train, y_train)\n",
    "\n",
    "# Evaluate the models and print the results\n",
    "best_model = None\n",
    "best_mse = float('inf')\n",
    "for name, model in models.items():\n",
    "    mse = evaluate_model(model, X_test, y_test)\n",
    "    if mse < best_mse:\n",
    "        best_model = model\n",
    "        best_mse = mse\n",
    "    print(f\"{name} MSE: {mse}\\n\")\n",
    "\n",
    "print(f\"The best model is {type(best_model).__name__} with an MSE of {best_mse}\")\n"
   ]
  },
  {
   "cell_type": "code",
   "execution_count": 32,
   "metadata": {},
   "outputs": [
    {
     "name": "stdout",
     "output_type": "stream",
     "text": [
      "Model coefficients:\n",
      "energy: -0.00046625527617278977\n",
      "valence: -0.0014859295598446086\n",
      "tempo: 2.947519692278183e-05\n",
      "loudness: -5.9851852434204516e-05\n",
      "acousticness: -0.0104686383698309\n",
      "instrumentalness: 0.0007636852509595757\n",
      "liveness: -0.002470943015898268\n",
      "speechiness: 0.003174801114960429\n",
      "duration_ms: -7.491987838069065e-09\n",
      "popularity: -3.98161342144303e-05\n",
      "danceability: 3.565363734091189e-05\n"
     ]
    }
   ],
   "source": [
    "bayesian_ridge_regression_model = models['bayesian_ridge_regression']\n",
    "coefficients = bayesian_ridge_regression_model.coef_\n",
    "\n",
    "print(\"Model coefficients:\")\n",
    "for i, attr in enumerate(musical_characteristics):\n",
    "    print(f\"{attr}: {bayesian_ridge_regression_model.coef_[i]}\")\n"
   ]
  },
  {
   "cell_type": "markdown",
   "metadata": {},
   "source": [
    "**Direction of research for this project:**\n",
    " We can aim to develop a model that computes an influence coefficient for each artist, taking into account the impact of musical attributes, as well as the influence within and across genres. By assigning weights to these factors, the model can emphasize certain aspects, such as giving more importance to influences outside the genre. Additionally, the model should determine the significance of specific musical attributes in measuring influence and assign appropriate weights to them.\n",
    "\n",
    "Here is the code for one such model. In this example, the calculate_influence_coefficient function calculates the influence coefficient for a given artist based on the differences in musical characteristics, genre influence, and other factors. The influence coefficient is calculated as the sum of weighted differences in musical characteristics and genre influence.\n",
    "\n",
    "Attribute weights, genre weights, and outside genre weights are defined separately. We can change these weights to emphasize different factors when calculating the influence coefficient. In this example, we assigned random weights to energy, valence, and tempo differences etc, and assigned more weight to the influence outside the genre than the influence within the genre.\n",
    "Now we have to determine how we want to assign these weights. \n"
   ]
  },
  {
   "cell_type": "code",
   "execution_count": 33,
   "metadata": {},
   "outputs": [],
   "source": [
    "# Define a function to calculate the influence coefficient\n",
    "def calculate_influence_coefficient(artist_id, G, attribute_weights, genre_weight, outside_genre_weight):\n",
    "    influence_sum = 0\n",
    "    total_weight = sum(attribute_weights.values()) + genre_weight + outside_genre_weight\n",
    "    \n",
    "    # Calculate the sum of weighted differences in musical characteristics\n",
    "    for attr, weight in attribute_weights.items():\n",
    "        attribute_diff = sum(edge[2][f\"{attr}_diff\"] for edge in G.out_edges(artist_id, data=True))\n",
    "        influence_sum += (attribute_diff * weight)\n",
    "\n",
    "    # Calculate the sum of weighted genre influence\n",
    "    in_genre_influence = 0\n",
    "    out_genre_influence = 0\n",
    "    for edge in G.out_edges(artist_id, data=True):\n",
    "        influencer_genre = G.nodes[artist_id]['genre']\n",
    "        follower_genre = G.nodes[edge[1]]['genre']\n",
    "        \n",
    "        if influencer_genre == follower_genre:\n",
    "            in_genre_influence += 1\n",
    "        else:\n",
    "            out_genre_influence += 1\n",
    "            \n",
    "    influence_sum += in_genre_influence * genre_weight\n",
    "    influence_sum += out_genre_influence * outside_genre_weight\n",
    "\n",
    "    return influence_sum / total_weight\n",
    "\n",
    "\n",
    "# Define attribute weights, genre weights, and outside genre weights\n",
    "attribute_weights = {\n",
    "    'energy': -0.00046625527617278977,\n",
    "    'valence': -0.0014859295598446086,\n",
    "    'tempo': 2.947519692278183e-05,\n",
    "    'loudness': -5.9851852434204516e-05,\n",
    "    'acousticness': -0.0104686383698309,\n",
    "    'instrumentalness': 0.0007636852509595757,\n",
    "    'liveness': -0.002470943015898268,\n",
    "    'speechiness': 0.003174801114960429,\n",
    "    'duration_ms': -7.491987838069065e-09,\n",
    "    'popularity': -3.98161342144303e-05,\n",
    "    'danceability': 3.565363734091189e-05\n",
    "}\n",
    "\n",
    "\n",
    "genre_weight = 0.4\n",
    "outside_genre_weight = 0.6"
   ]
  },
  {
   "cell_type": "markdown",
   "metadata": {},
   "source": [
    "Now let us look at the artist with highest influence coeffients. "
   ]
  },
  {
   "cell_type": "code",
   "execution_count": 34,
   "metadata": {},
   "outputs": [
    {
     "name": "stdout",
     "output_type": "stream",
     "text": [
      "Top 5 influencers:\n",
      "  The Beatles (ID: 754032): Influence coefficient = 258.71482727517974\n",
      "  Bob Dylan (ID: 66915): Influence coefficient = 169.4891058289173\n",
      "  The Rolling Stones (ID: 894465): Influence coefficient = 131.22363408890953\n",
      "  David Bowie (ID: 531986): Influence coefficient = 98.51621120819806\n",
      "  Hank Williams (ID: 549797): Influence coefficient = 91.14679515918382\n"
     ]
    }
   ],
   "source": [
    "# Calculate influence coefficients for each artist in the graph\n",
    "influence_coefficients = {\n",
    "    artist_id: calculate_influence_coefficient(\n",
    "        artist_id, G, attribute_weights, genre_weight, outside_genre_weight\n",
    "    )\n",
    "    for artist_id in G.nodes()\n",
    "}\n",
    "\n",
    "# Find the top 5 artists with the highest influence coefficients\n",
    "top_influencers = sorted(influence_coefficients.items(), key=lambda x: -x[1])[:5]\n",
    "\n",
    "# Print the top 5 influencers\n",
    "print(\"Top 5 influencers:\")\n",
    "for artist_id, influence_coefficient in top_influencers:\n",
    "    artist_name = G.nodes[artist_id]['artist_name']\n",
    "    print(f\"  {artist_name} (ID: {artist_id}): Influence coefficient = {influence_coefficient}\")"
   ]
  },
  {
   "cell_type": "code",
   "execution_count": 35,
   "metadata": {},
   "outputs": [
    {
     "name": "stdout",
     "output_type": "stream",
     "text": [
      "linear_regression MSE: 7.82076491305253e-05\n",
      "\n",
      "ridge_regression MSE: 7.820773194804028e-05\n",
      "\n",
      "lasso_regression MSE: 8.027883915369661e-05\n",
      "\n",
      "elastic_net_regression MSE: 8.027872431049451e-05\n",
      "\n",
      "bayesian_ridge_regression MSE: 7.82136853035515e-05\n",
      "\n",
      "The best model is LinearRegression with an MSE of 7.82076491305253e-05\n"
     ]
    }
   ],
   "source": [
    "# Generate the feature matrix and target vector\n",
    "degree_centrality = nx.degree_centrality(G)\n",
    "\n",
    "\n",
    "# Initialize empty lists to store the features and labels for the regression models\n",
    "features = []\n",
    "labels = []\n",
    "\n",
    "# Loop over each edge in the graph\n",
    "for edge in G.edges(data=True):\n",
    "    \n",
    "    # Append the difference in musical characteristics for each attribute for the edge to the features list\n",
    "    features.append([edge[2][attr + '_diff'] for attr in musical_characteristics])\n",
    "    \n",
    "    # Get the degree_centrality  score for the influencer and follower nodes in the current edge\n",
    "    influencer_centrality = degree_centrality[edge[0]]\n",
    "    follower_centrality = degree_centrality[edge[1]]\n",
    "    \n",
    "    # Compute the average of the degree_centrality  scores of the influencer and follower nodes and append it to the labels list\n",
    "    labels.append((influencer_centrality + follower_centrality) / 2)\n",
    "\n",
    "# Split the data into training and testing sets\n",
    "X_train, X_test, y_train, y_test = train_test_split(features, labels, test_size=0.2, random_state=42)\n",
    "\n",
    "# Train the regression models\n",
    "models = {}\n",
    "models['linear_regression'] = train_linear_regression(X_train, y_train)\n",
    "models['ridge_regression'] = train_ridge_regression(X_train, y_train)\n",
    "models['lasso_regression'] = train_lasso_regression(X_train, y_train)\n",
    "models['elastic_net_regression'] = train_elastic_net_regression(X_train, y_train)\n",
    "models['bayesian_ridge_regression'] = train_bayesian_ridge_regression(X_train, y_train)\n",
    "\n",
    "# Evaluate the models and print the results\n",
    "best_model = None\n",
    "best_mse = float('inf')\n",
    "for name, model in models.items():\n",
    "    mse = evaluate_model(model, X_test, y_test)\n",
    "    if mse < best_mse:\n",
    "        best_model = model\n",
    "        best_mse = mse\n",
    "    print(f\"{name} MSE: {mse}\\n\")\n",
    "\n",
    "print(f\"The best model is {type(best_model).__name__} with an MSE of {best_mse}\")\n"
   ]
  },
  {
   "cell_type": "code",
   "execution_count": 36,
   "metadata": {},
   "outputs": [
    {
     "name": "stdout",
     "output_type": "stream",
     "text": [
      "Model coefficients:\n",
      "energy: 0.0023710669364053146\n",
      "valence: -0.002884575772075156\n",
      "tempo: -6.715273627010535e-05\n",
      "loudness: -0.00022712083693741486\n",
      "acousticness: 0.0021801818130626847\n",
      "instrumentalness: -0.0013841205224201028\n",
      "liveness: -0.000521471131031451\n",
      "speechiness: -0.012440177166873116\n",
      "duration_ms: 2.0494953772293156e-09\n",
      "popularity: -3.369627792196211e-05\n",
      "danceability: -0.002819901102005813\n"
     ]
    }
   ],
   "source": [
    "linear_regression_model = models['linear_regression']\n",
    "coefficients = linear_regression_model.coef_\n",
    "\n",
    "print(\"Model coefficients:\")\n",
    "for i, attr in enumerate(musical_characteristics):\n",
    "    print(f\"{attr}: {linear_regression_model.coef_[i]}\")\n"
   ]
  },
  {
   "cell_type": "code",
   "execution_count": 37,
   "metadata": {},
   "outputs": [
    {
     "name": "stdout",
     "output_type": "stream",
     "text": [
      "Top 5 influencers:\n",
      "  The Beatles (ID: 754032): Influence coefficient = 260.8397742985166\n",
      "  Bob Dylan (ID: 66915): Influence coefficient = 171.0141754879616\n",
      "  The Rolling Stones (ID: 894465): Influence coefficient = 132.0677630019937\n",
      "  David Bowie (ID: 531986): Influence coefficient = 99.04018997674979\n",
      "  Hank Williams (ID: 549797): Influence coefficient = 92.26899837216888\n"
     ]
    }
   ],
   "source": [
    "attribute_weights = {\n",
    "    'energy': 0.0023710669364053146,\n",
    "    'valence': -0.002884575772075156,\n",
    "    'tempo': -6.715273627010535e-05,\n",
    "    'loudness': -0.00022712083693741486,\n",
    "    'acousticness': 0.0021801818130626847,\n",
    "    'instrumentalness': -0.0013841205224201028,\n",
    "    'liveness': -0.000521471131031451,\n",
    "    'speechiness': -0.012440177166873116,\n",
    "    'duration_ms': 2.0494953772293156e-09,\n",
    "    'popularity': -3.369627792196211e-05,\n",
    "    'danceability': -0.002819901102005813\n",
    "}\n",
    "\n",
    "\n",
    "# Calculate influence coefficients for each artist in the graph\n",
    "influence_coefficients = {\n",
    "    artist_id: calculate_influence_coefficient(\n",
    "        artist_id, G, attribute_weights, genre_weight, outside_genre_weight\n",
    "    )\n",
    "    for artist_id in G.nodes()\n",
    "}\n",
    "\n",
    "# Find the top 5 artists with the highest influence coefficients\n",
    "top_influencers = sorted(influence_coefficients.items(), key=lambda x: -x[1])[:5]\n",
    "\n",
    "# Print the top 5 influencers\n",
    "print(\"Top 5 influencers:\")\n",
    "for artist_id, influence_coefficient in top_influencers:\n",
    "    artist_name = G.nodes[artist_id]['artist_name']\n",
    "    print(f\"  {artist_name} (ID: {artist_id}): Influence coefficient = {influence_coefficient}\")"
   ]
  },
  {
   "cell_type": "code",
   "execution_count": 38,
   "metadata": {},
   "outputs": [
    {
     "name": "stdout",
     "output_type": "stream",
     "text": [
      "linear_regression MSE: 4.173620512733798e-06\n",
      "\n",
      "ridge_regression MSE: 4.1736240388151476e-06\n",
      "\n",
      "lasso_regression MSE: 4.203909548119698e-06\n",
      "\n",
      "elastic_net_regression MSE: 4.203890876923052e-06\n",
      "\n",
      "bayesian_ridge_regression MSE: 4.1740432892387455e-06\n",
      "\n",
      "The best model is LinearRegression with an MSE of 4.173620512733798e-06\n"
     ]
    }
   ],
   "source": [
    "# Generate the feature matrix and target vector\n",
    "betweenness_centrality = nx.betweenness_centrality(G)\n",
    "\n",
    "\n",
    "# Initialize empty lists to store the features and labels for the regression models\n",
    "features = []\n",
    "labels = []\n",
    "\n",
    "# Loop over each edge in the graph\n",
    "for edge in G.edges(data=True):\n",
    "    \n",
    "    # Append the difference in musical characteristics for each attribute for the edge to the features list\n",
    "    features.append([edge[2][attr + '_diff'] for attr in musical_characteristics])\n",
    "    \n",
    "    # Get the betweenness_centrality  score for the influencer and follower nodes in the current edge\n",
    "    influencer_centrality = betweenness_centrality[edge[0]]\n",
    "    follower_centrality = betweenness_centrality[edge[1]]\n",
    "    \n",
    "    # Compute the average of the betweenness_centrality  scores of the influencer and follower nodes and append it to the labels list\n",
    "    labels.append((influencer_centrality + follower_centrality) / 2)\n",
    "\n",
    "# Split the data into training and testing sets\n",
    "X_train, X_test, y_train, y_test = train_test_split(features, labels, test_size=0.2, random_state=42)\n",
    "\n",
    "# Train the regression models\n",
    "models = {}\n",
    "models['linear_regression'] = train_linear_regression(X_train, y_train)\n",
    "models['ridge_regression'] = train_ridge_regression(X_train, y_train)\n",
    "models['lasso_regression'] = train_lasso_regression(X_train, y_train)\n",
    "models['elastic_net_regression'] = train_elastic_net_regression(X_train, y_train)\n",
    "models['bayesian_ridge_regression'] = train_bayesian_ridge_regression(X_train, y_train)\n",
    "\n",
    "# Evaluate the models and print the results\n",
    "best_model = None\n",
    "best_mse = float('inf')\n",
    "for name, model in models.items():\n",
    "    mse = evaluate_model(model, X_test, y_test)\n",
    "    if mse < best_mse:\n",
    "        best_model = model\n",
    "        best_mse = mse\n",
    "    print(f\"{name} MSE: {mse}\\n\")\n",
    "\n",
    "print(f\"The best model is {type(best_model).__name__} with an MSE of {best_mse}\")\n"
   ]
  },
  {
   "cell_type": "code",
   "execution_count": 39,
   "metadata": {},
   "outputs": [
    {
     "name": "stdout",
     "output_type": "stream",
     "text": [
      "Model coefficients:\n",
      "energy: 0.0006227855461225861\n",
      "valence: -0.0003363972629988929\n",
      "tempo: -9.781643039893679e-06\n",
      "loudness: -4.024860435234554e-05\n",
      "acousticness: 0.00014956978811953635\n",
      "instrumentalness: -0.00010537086684372266\n",
      "liveness: 0.0001049158885719073\n",
      "speechiness: -0.00074395516560273\n",
      "duration_ms: 6.287691049246258e-10\n",
      "popularity: -1.593510017433036e-06\n",
      "danceability: -0.00033375359192276623\n"
     ]
    }
   ],
   "source": [
    "linear_regression_model = models['linear_regression']\n",
    "coefficients = linear_regression_model.coef_\n",
    "\n",
    "print(\"Model coefficients:\")\n",
    "for i, attr in enumerate(musical_characteristics):\n",
    "    print(f\"{attr}: {linear_regression_model.coef_[i]}\")\n"
   ]
  },
  {
   "cell_type": "code",
   "execution_count": 40,
   "metadata": {},
   "outputs": [
    {
     "name": "stdout",
     "output_type": "stream",
     "text": [
      "Top 5 influencers:\n",
      "  The Beatles (ID: 754032): Influence coefficient = 257.88679695017163\n",
      "  Bob Dylan (ID: 66915): Influence coefficient = 169.05758874978233\n",
      "  The Rolling Stones (ID: 894465): Influence coefficient = 130.6283629452412\n",
      "  David Bowie (ID: 531986): Influence coefficient = 98.01337036436769\n",
      "  Hank Williams (ID: 549797): Influence coefficient = 91.04898724080472\n"
     ]
    }
   ],
   "source": [
    "attribute_weights = {\n",
    "    'energy': 0.0006227855461225861,\n",
    "    'valence': -0.0003363972629988929,\n",
    "    'tempo': -9.781643039893679e-06,\n",
    "    'loudness': -4.024860435234554e-05,\n",
    "    'acousticness': 0.00014956978811953635,\n",
    "    'instrumentalness': -0.00010537086684372266,\n",
    "    'liveness': 0.0001049158885719073,\n",
    "    'speechiness': -0.00074395516560273,\n",
    "    'duration_ms': 6.287691049246258e-10,\n",
    "    'popularity': -1.593510017433036e-06,\n",
    "    'danceability': -0.00033375359192276623\n",
    "}\n",
    "# Calculate influence coefficients for each artist in the graph\n",
    "influence_coefficients = {\n",
    "    artist_id: calculate_influence_coefficient(\n",
    "        artist_id, G, attribute_weights, genre_weight, outside_genre_weight\n",
    "    )\n",
    "    for artist_id in G.nodes()\n",
    "}\n",
    "\n",
    "# Find the top 5 artists with the highest influence coefficients\n",
    "top_influencers = sorted(influence_coefficients.items(), key=lambda x: -x[1])[:5]\n",
    "\n",
    "# Print the top 5 influencers\n",
    "print(\"Top 5 influencers:\")\n",
    "for artist_id, influence_coefficient in top_influencers:\n",
    "    artist_name = G.nodes[artist_id]['artist_name']\n",
    "    print(f\"  {artist_name} (ID: {artist_id}): Influence coefficient = {influence_coefficient}\")"
   ]
  },
  {
   "cell_type": "code",
   "execution_count": 41,
   "metadata": {},
   "outputs": [
    {
     "name": "stdout",
     "output_type": "stream",
     "text": [
      "linear_regression MSE: 0.0003705662366186016\n",
      "\n",
      "ridge_regression MSE: 0.00037056640089723486\n",
      "\n",
      "lasso_regression MSE: 0.00038992170214096467\n",
      "\n",
      "elastic_net_regression MSE: 0.0003899210143318324\n",
      "\n",
      "bayesian_ridge_regression MSE: 0.0003705768928447644\n",
      "\n",
      "The best model is LinearRegression with an MSE of 0.0003705662366186016\n"
     ]
    }
   ],
   "source": [
    "# Generate the feature matrix and target vector\n",
    "closeness_centrality = nx.closeness_centrality(G)\n",
    "\n",
    "# Initialize empty lists to store the features and labels for the regression models\n",
    "features = []\n",
    "labels = []\n",
    "\n",
    "# Loop over each edge in the graph\n",
    "for edge in G.edges(data=True):\n",
    "    \n",
    "    # Append the difference in musical characteristics for each attribute for the edge to the features list\n",
    "    features.append([edge[2][attr + '_diff'] for attr in musical_characteristics])\n",
    "    \n",
    "    # Get the closeness_centrality  score for the influencer and follower nodes in the current edge\n",
    "    influencer_centrality = closeness_centrality[edge[0]]\n",
    "    follower_centrality = closeness_centrality[edge[1]]\n",
    "    \n",
    "    # Compute the average of the closeness_centrality  scores of the influencer and follower nodes and append it to the labels list\n",
    "    labels.append((influencer_centrality + follower_centrality) / 2)\n",
    "\n",
    "# Split the data into training and testing sets\n",
    "X_train, X_test, y_train, y_test = train_test_split(features, labels, test_size=0.2, random_state=42)\n",
    "\n",
    "# Train the regression models\n",
    "models = {}\n",
    "models['linear_regression'] = train_linear_regression(X_train, y_train)\n",
    "models['ridge_regression'] = train_ridge_regression(X_train, y_train)\n",
    "models['lasso_regression'] = train_lasso_regression(X_train, y_train)\n",
    "models['elastic_net_regression'] = train_elastic_net_regression(X_train, y_train)\n",
    "models['bayesian_ridge_regression'] = train_bayesian_ridge_regression(X_train, y_train)\n",
    "\n",
    "# Evaluate the models and print the results\n",
    "best_model = None\n",
    "best_mse = float('inf')\n",
    "for name, model in models.items():\n",
    "    mse = evaluate_model(model, X_test, y_test)\n",
    "    if mse < best_mse:\n",
    "        best_model = model\n",
    "        best_mse = mse\n",
    "    print(f\"{name} MSE: {mse}\\n\")\n",
    "\n",
    "print(f\"The best model is {type(best_model).__name__} with an MSE of {best_mse}\")\n"
   ]
  },
  {
   "cell_type": "code",
   "execution_count": 42,
   "metadata": {},
   "outputs": [
    {
     "name": "stdout",
     "output_type": "stream",
     "text": [
      "Model coefficients:\n",
      "energy: 0.0018293399956577409\n",
      "valence: 0.002458208423549258\n",
      "tempo: 7.18630852091306e-05\n",
      "loudness: 0.0001759061567017887\n",
      "acousticness: -0.024921592440657763\n",
      "instrumentalness: -0.0007702424117844492\n",
      "liveness: -0.0031312429591417576\n",
      "speechiness: -0.011616477847427559\n",
      "duration_ms: -2.3299444962786298e-08\n",
      "popularity: -0.00019910317157314334\n",
      "danceability: 0.00693600298896803\n"
     ]
    }
   ],
   "source": [
    "linear_regression_model = models['linear_regression']\n",
    "coefficients = linear_regression_model.coef_\n",
    "\n",
    "print(\"Model coefficients:\")\n",
    "for i, attr in enumerate(musical_characteristics):\n",
    "    print(f\"{attr}: {linear_regression_model.coef_[i]}\")\n"
   ]
  },
  {
   "cell_type": "code",
   "execution_count": 43,
   "metadata": {},
   "outputs": [
    {
     "name": "stdout",
     "output_type": "stream",
     "text": [
      "Top 5 influencers:\n",
      "  The Beatles (ID: 754032): Influence coefficient = 261.29366698337316\n",
      "  Bob Dylan (ID: 66915): Influence coefficient = 171.07665429979096\n",
      "  The Rolling Stones (ID: 894465): Influence coefficient = 132.9000910908746\n",
      "  David Bowie (ID: 531986): Influence coefficient = 99.94142030234534\n",
      "  Jimi Hendrix (ID: 354105): Influence coefficient = 92.09736662634008\n"
     ]
    }
   ],
   "source": [
    "attribute_weights = {\n",
    "    'energy': 0.0018293399956577409,\n",
    "    'valence': 0.002458208423549258,\n",
    "    'tempo': 7.18630852091306e-05,\n",
    "    'loudness': 0.0001759061567017887,\n",
    "    'acousticness': -0.024921592440657763,\n",
    "    'instrumentalness': -0.0007702424117844492,\n",
    "    'liveness': -0.0031312429591417576,\n",
    "    'speechiness': -0.011616477847427559,\n",
    "    'duration_ms': -2.3299444962786298e-08,\n",
    "    'popularity': -0.00019910317157314334,\n",
    "    'danceability': 0.00693600298896803\n",
    "}\n",
    "# Calculate influence coefficients for each artist in the graph\n",
    "influence_coefficients = {\n",
    "    artist_id: calculate_influence_coefficient(\n",
    "        artist_id, G, attribute_weights, genre_weight, outside_genre_weight\n",
    "    )\n",
    "    for artist_id in G.nodes()\n",
    "}\n",
    "\n",
    "# Find the top 5 artists with the highest influence coefficients\n",
    "top_influencers = sorted(influence_coefficients.items(), key=lambda x: -x[1])[:5]\n",
    "\n",
    "# Print the top 5 influencers\n",
    "print(\"Top 5 influencers:\")\n",
    "for artist_id, influence_coefficient in top_influencers:\n",
    "    artist_name = G.nodes[artist_id]['artist_name']\n",
    "    print(f\"  {artist_name} (ID: {artist_id}): Influence coefficient = {influence_coefficient}\")\n"
   ]
  },
  {
   "cell_type": "code",
   "execution_count": 44,
   "metadata": {},
   "outputs": [
    {
     "name": "stdout",
     "output_type": "stream",
     "text": [
      "linear_regression MSE: 0.00011666454423285746\n",
      "\n",
      "ridge_regression MSE: 0.0001166645853772013\n",
      "\n",
      "lasso_regression MSE: 0.00012456035933722703\n",
      "\n",
      "elastic_net_regression MSE: 0.00012456017190215114\n",
      "\n",
      "bayesian_ridge_regression MSE: 0.00011666687561259164\n",
      "\n",
      "The best model is LinearRegression with an MSE of 0.00011666454423285746\n"
     ]
    }
   ],
   "source": [
    "# Generate the feature matrix and target vector\n",
    "katz_centrality = nx.katz_centrality(G)\n",
    "\n",
    "# Initialize empty lists to store the features and labels for the regression models\n",
    "features = []\n",
    "labels = []\n",
    "\n",
    "# Loop over each edge in the graph\n",
    "for edge in G.edges(data=True):\n",
    "    \n",
    "    # Append the difference in musical characteristics for each attribute for the edge to the features list\n",
    "    features.append([edge[2][attr + '_diff'] for attr in musical_characteristics])\n",
    "    \n",
    "    # Get the katz_centrality  score for the influencer and follower nodes in the current edge\n",
    "    influencer_centrality = katz_centrality[edge[0]]\n",
    "    follower_centrality = katz_centrality[edge[1]]\n",
    "    \n",
    "    # Compute the average of the katz_centrality  scores of the influencer and follower nodes and append it to the labels list\n",
    "    labels.append((influencer_centrality + follower_centrality) / 2)\n",
    "\n",
    "# Split the data into training and testing sets\n",
    "X_train, X_test, y_train, y_test = train_test_split(features, labels, test_size=0.2, random_state=42)\n",
    "\n",
    "# Train the regression models\n",
    "models = {}\n",
    "models['linear_regression'] = train_linear_regression(X_train, y_train)\n",
    "models['ridge_regression'] = train_ridge_regression(X_train, y_train)\n",
    "models['lasso_regression'] = train_lasso_regression(X_train, y_train)\n",
    "models['elastic_net_regression'] = train_elastic_net_regression(X_train, y_train)\n",
    "models['bayesian_ridge_regression'] = train_bayesian_ridge_regression(X_train, y_train)\n",
    "\n",
    "# Evaluate the models and print the results\n",
    "best_model = None\n",
    "best_mse = float('inf')\n",
    "for name, model in models.items():\n",
    "    mse = evaluate_model(model, X_test, y_test)\n",
    "    if mse < best_mse:\n",
    "        best_model = model\n",
    "        best_mse = mse\n",
    "    print(f\"{name} MSE: {mse}\\n\")\n",
    "\n",
    "print(f\"The best model is {type(best_model).__name__} with an MSE of {best_mse}\")\n"
   ]
  },
  {
   "cell_type": "code",
   "execution_count": 45,
   "metadata": {},
   "outputs": [
    {
     "name": "stdout",
     "output_type": "stream",
     "text": [
      "Model coefficients:\n",
      "energy: 0.0007862071685311271\n",
      "valence: -0.0013889140729908803\n",
      "tempo: 1.9534837027405493e-05\n",
      "loudness: -6.490965860913955e-06\n",
      "acousticness: -0.015929306753644665\n",
      "instrumentalness: 0.002083420063186647\n",
      "liveness: -0.0026491099547547147\n",
      "speechiness: -0.0057259337518057955\n",
      "duration_ms: -1.1446582566347618e-08\n",
      "popularity: -9.306248082885641e-05\n",
      "danceability: 0.0007646835230197874\n"
     ]
    }
   ],
   "source": [
    "linear_regression_model = models['linear_regression']\n",
    "coefficients = linear_regression_model.coef_\n",
    "\n",
    "print(\"Model coefficients:\")\n",
    "for i, attr in enumerate(musical_characteristics):\n",
    "    print(f\"{attr}: {linear_regression_model.coef_[i]}\")\n"
   ]
  },
  {
   "cell_type": "code",
   "execution_count": 46,
   "metadata": {},
   "outputs": [
    {
     "name": "stdout",
     "output_type": "stream",
     "text": [
      "Top 5 influencers:\n",
      "  The Beatles (ID: 754032): Influence coefficient = 260.6132125652726\n",
      "  Bob Dylan (ID: 66915): Influence coefficient = 170.66100897268012\n",
      "  The Rolling Stones (ID: 894465): Influence coefficient = 132.31507391219262\n",
      "  David Bowie (ID: 531986): Influence coefficient = 99.36491604523454\n",
      "  Hank Williams (ID: 549797): Influence coefficient = 91.73587890925847\n"
     ]
    }
   ],
   "source": [
    "attribute_weights = {\n",
    "    'energy': 0.0007862071685311271,\n",
    "    'valence': -0.0013889140729908803,\n",
    "    'tempo': 1.9534837027405493e-05,\n",
    "    'loudness': -6.490965860913955e-06,\n",
    "    'acousticness': -0.015929306753644665,\n",
    "    'instrumentalness': 0.002083420063186647,\n",
    "    'liveness': -0.0026491099547547147,\n",
    "    'speechiness': -0.0057259337518057955,\n",
    "    'duration_ms': -1.1446582566347618e-08,\n",
    "    'popularity': -9.306248082885641e-05,\n",
    "    'danceability': 0.0007646835230197874\n",
    "}\n",
    "# Calculate influence coefficients for each artist in the graph\n",
    "influence_coefficients = {\n",
    "    artist_id: calculate_influence_coefficient(\n",
    "        artist_id, G, attribute_weights, genre_weight, outside_genre_weight\n",
    "    )\n",
    "    for artist_id in G.nodes()\n",
    "}\n",
    "\n",
    "# Find the top 5 artists with the highest influence coefficients\n",
    "top_influencers = sorted(influence_coefficients.items(), key=lambda x: -x[1])[:5]\n",
    "\n",
    "# Print the top 5 influencers\n",
    "print(\"Top 5 influencers:\")\n",
    "for artist_id, influence_coefficient in top_influencers:\n",
    "    artist_name = G.nodes[artist_id]['artist_name']\n",
    "    print(f\"  {artist_name} (ID: {artist_id}): Influence coefficient = {influence_coefficient}\")\n"
   ]
  },
  {
   "cell_type": "markdown",
   "metadata": {},
   "source": [
    "### Calculating the weights\n",
    "Above, we just used random weights. But we have to figure out these weights in a systematic fashion. To determine the appropriate weights for each attribute and influence type, we could conduct a data-driven analysis of the relationships between these factors and an artist's influence. **This analysis could involve techniques such as linear regression, correlation analysis, or machine learning models** .\n",
    "\n",
    "One approach would be to use a subset of the data to train a model that predicts an artist's influence based on their musical characteristics and genre influences, and then use this model to determine the optimal weights for each factor. We could also experiment with different weight combinations and evaluate their performance using metrics such as R-squared or mean absolute error.\n",
    "\n",
    "Another approach would be to consult with experts in the music industry and gather their insights on the relative importance of different musical characteristics and influence types. This approach may involve qualitative research methods such as interviews or surveys. May be do literature review regarding this? \n",
    "\n",
    "**Maybe use statistics from netowrk anlysis like betweeness centrality, eigenvector centrality etc in some way to figure out the weithts**. No matter which method is used **Conduct sensitivity analysis** must be done. We can test the influence coefficient calculation with different weightings for the attributes or factors and observe the impact on the results. This approach can help us understand the sensitivity of the model to the weightings and choose the best combination based on your desired outcomes."
   ]
  },
  {
   "cell_type": "code",
   "execution_count": 47,
   "metadata": {},
   "outputs": [],
   "source": [
    "attribute_weights_list = [\n",
    "    {\n",
    "        'energy': -0.00046625527617278977,\n",
    "        'valence': -0.0014859295598446086,\n",
    "        'tempo': 2.947519692278183e-05,\n",
    "        'loudness': -5.9851852434204516e-05,\n",
    "        'acousticness': -0.0104686383698309,\n",
    "        'instrumentalness': 0.0007636852509595757,  #eigenvector centrality\n",
    "        'liveness': -0.002470943015898268,\n",
    "        'speechiness': 0.003174801114960429,\n",
    "        'duration_ms': -7.491987838069065e-09,\n",
    "        'popularity': -3.98161342144303e-05,\n",
    "        'danceability': 3.565363734091189e-05\n",
    "    },\n",
    "    {\n",
    "        'energy': 0.0023710669364053146,\n",
    "        'valence': -0.002884575772075156,\n",
    "        'tempo': -6.715273627010535e-05,\n",
    "        'loudness': -0.00022712083693741486,\n",
    "        'acousticness': 0.0021801818130626847,  #degree centrality\n",
    "        'instrumentalness': -0.0013841205224201028,\n",
    "        'liveness': -0.000521471131031451,\n",
    "        'speechiness': -0.012440177166873116,\n",
    "        'duration_ms': 2.0494953772293156e-09,\n",
    "        'popularity': -3.369627792196211e-05,\n",
    "        'danceability': -0.002819901102005813\n",
    "    },\n",
    "    {\n",
    "        'energy': 0.0006227855461225861,\n",
    "        'valence': -0.0003363972629988929,\n",
    "        'tempo': -9.781643039893679e-06,\n",
    "        'loudness': -4.024860435234554e-05,\n",
    "        'acousticness': 0.00014956978811953635,\n",
    "        'instrumentalness': -0.00010537086684372266,    #betweenness_centrality\n",
    "        'liveness': 0.0001049158885719073,\n",
    "        'speechiness': -0.00074395516560273,\n",
    "        'duration_ms': 6.287691049246258e-10,\n",
    "        'popularity': -1.593510017433036e-06,\n",
    "        'danceability': -0.00033375359192276623\n",
    "    },\n",
    "    {\n",
    "        'energy': 0.0018293399956577409,\n",
    "        'valence': 0.002458208423549258,\n",
    "        'tempo': 7.18630852091306e-05,\n",
    "        'loudness': 0.0001759061567017887,\n",
    "        'acousticness': -0.024921592440657763,\n",
    "        'instrumentalness': -0.0007702424117844492, #closeness centrality\n",
    "        'liveness': -0.0031312429591417576,\n",
    "        'speechiness': -0.011616477847427559,\n",
    "        'duration_ms': -2.3299444962786298e-08,\n",
    "        'popularity': -0.00019910317157314334,\n",
    "        'danceability': 0.00693600298896803\n",
    "    }, \n",
    "    {\n",
    "        'energy': 0.0007862071685311271,\n",
    "        'valence': -0.0013889140729908803,\n",
    "        'tempo': 1.9534837027405493e-05,\n",
    "        'loudness': -6.490965860913955e-06,\n",
    "        'acousticness': -0.015929306753644665,  #katz centrality\n",
    "        'instrumentalness': 0.002083420063186647,\n",
    "        'liveness': -0.0026491099547547147,\n",
    "        'speechiness': -0.0057259337518057955,\n",
    "        'duration_ms': -1.1446582566347618e-08,\n",
    "        'popularity': -9.306248082885641e-05,\n",
    "        'danceability': 0.0007646835230197874      \n",
    "    }\n",
    "]\n"
   ]
  },
  {
   "cell_type": "code",
   "execution_count": 48,
   "metadata": {},
   "outputs": [
    {
     "name": "stdout",
     "output_type": "stream",
     "text": [
      "Ranking for index 1:\n",
      "+------+------------------+\n",
      "| Rank | Attribute        |\n",
      "+------+------------------+\n",
      "|  1   | acousticness     |\n",
      "|  2   | speechiness      |\n",
      "|  3   | liveness         |\n",
      "|  4   | valence          |\n",
      "|  5   | instrumentalness |\n",
      "|  6   | energy           |\n",
      "|  7   | loudness         |\n",
      "|  8   | popularity       |\n",
      "|  9   | danceability     |\n",
      "|  10  | tempo            |\n",
      "|  11  | duration_ms      |\n",
      "+------+------------------+\n",
      "\n",
      "Ranking for index 2:\n",
      "+------+------------------+\n",
      "| Rank | Attribute        |\n",
      "+------+------------------+\n",
      "|  1   | speechiness      |\n",
      "|  2   | valence          |\n",
      "|  3   | danceability     |\n",
      "|  4   | energy           |\n",
      "|  5   | acousticness     |\n",
      "|  6   | instrumentalness |\n",
      "|  7   | liveness         |\n",
      "|  8   | loudness         |\n",
      "|  9   | tempo            |\n",
      "|  10  | popularity       |\n",
      "|  11  | duration_ms      |\n",
      "+------+------------------+\n",
      "\n",
      "Ranking for index 3:\n",
      "+------+------------------+\n",
      "| Rank | Attribute        |\n",
      "+------+------------------+\n",
      "|  1   | speechiness      |\n",
      "|  2   | energy           |\n",
      "|  3   | valence          |\n",
      "|  4   | danceability     |\n",
      "|  5   | acousticness     |\n",
      "|  6   | instrumentalness |\n",
      "|  7   | liveness         |\n",
      "|  8   | loudness         |\n",
      "|  9   | tempo            |\n",
      "|  10  | popularity       |\n",
      "|  11  | duration_ms      |\n",
      "+------+------------------+\n",
      "\n",
      "Ranking for index 4:\n",
      "+------+------------------+\n",
      "| Rank | Attribute        |\n",
      "+------+------------------+\n",
      "|  1   | acousticness     |\n",
      "|  2   | speechiness      |\n",
      "|  3   | danceability     |\n",
      "|  4   | liveness         |\n",
      "|  5   | valence          |\n",
      "|  6   | energy           |\n",
      "|  7   | instrumentalness |\n",
      "|  8   | popularity       |\n",
      "|  9   | loudness         |\n",
      "|  10  | tempo            |\n",
      "|  11  | duration_ms      |\n",
      "+------+------------------+\n",
      "\n",
      "Ranking for index 5:\n",
      "+------+------------------+\n",
      "| Rank | Attribute        |\n",
      "+------+------------------+\n",
      "|  1   | acousticness     |\n",
      "|  2   | speechiness      |\n",
      "|  3   | liveness         |\n",
      "|  4   | instrumentalness |\n",
      "|  5   | valence          |\n",
      "|  6   | energy           |\n",
      "|  7   | danceability     |\n",
      "|  8   | popularity       |\n",
      "|  9   | tempo            |\n",
      "|  10  | loudness         |\n",
      "|  11  | duration_ms      |\n",
      "+------+------------------+\n",
      "\n"
     ]
    }
   ],
   "source": [
    "from prettytable import PrettyTable\n",
    "\n",
    "for i in range(len(attribute_weights_list)):\n",
    "    sorted_keys = sorted(attribute_weights_list[i], key=lambda x: abs(attribute_weights_list[i][x]), reverse=True)\n",
    "    table = PrettyTable()\n",
    "    table.field_names = [\"Rank\", \"Attribute\"]\n",
    "    for rank, key in enumerate(sorted_keys):\n",
    "        table.add_row([rank+1, key])\n",
    "    table.align[\"Rank\"] = \"c\"\n",
    "    table.align[\"Attribute\"] = \"l\"\n",
    "    print(f\"Ranking for index {i+1}:\\n{table}\\n\")\n"
   ]
  },
  {
   "cell_type": "markdown",
   "metadata": {},
   "source": [
    "**Potential direction**\n",
    "\n",
    "Suppose we have a network of musicians and their collaborations, where the edges represent collaborations between musicians and the nodes represent musicians. We also have information about the musical characteristics of each musician's songs, such as energy, valence, tempo, etc.\n",
    "\n",
    "By analyzing this network, we can calculate each musician's influence coefficient, as we discussed earlier. We can also calculate various network centrality measures, such as degree centrality, betweenness centrality, and eigenvector centrality, which can help us identify central nodes in the network.\n",
    "\n",
    "Furthermore, we can use network analysis tools to identify clusters or communities within the network, which are groups of nodes that are more densely connected to each other than to the rest of the network. These clusters can help us identify subgroups of musicians that have similar musical characteristics or collaborate more frequently with each other.\n",
    "\n",
    "By examining the relationships between musical characteristics and network structure, we can identify which characteristics are more important in determining influence. For example, if we find that musicians with higher energy levels tend to have higher influence coefficients and also tend to be more central in the network, we might conclude that energy is an important factor in determining influence in this network.\n",
    "\n",
    "In summary, network analysis can help us gain insights into the relationship between musical characteristics and influence, as well as the overall structure of the network and the role of different nodes within it."
   ]
  },
  {
   "cell_type": "markdown",
   "metadata": {},
   "source": [
    "#### Method 1"
   ]
  },
  {
   "cell_type": "markdown",
   "metadata": {},
   "source": [
    "**IDEAS**\n",
    "\n",
    "1. First look at the distribution of musical characterstics and different centrality measures. \n",
    "2. Find the relationship between them calculating differnt correlation statistics. \n",
    "3. Rank the importance of muscial characterstics for each centrality measure. \n",
    "4. May be combine information from all centrality mesures to come up with one ranking?"
   ]
  },
  {
   "cell_type": "markdown",
   "metadata": {},
   "source": [
    "We could calculate degree centrality, betweenness centrality, or eigenvector centrality, and plot them against the values of different musical characteristics like energy or valence. This can help identify nodes or clusters that may be more influential or central in the network and explore how they relate to different musical characteristics."
   ]
  },
  {
   "cell_type": "code",
   "execution_count": 50,
   "metadata": {},
   "outputs": [],
   "source": [
    "\n",
    "# # Degree centrality\n",
    "# degree_centrality = nx.degree_centrality(G)\n",
    "\n",
    "# # Betweenness centrality\n",
    "# betweenness_centrality = nx.betweenness_centrality(G)\n",
    "\n",
    "# # Eigenvector centrality\n",
    "# eigenvector_centrality = nx.eigenvector_centrality(G)\n",
    "\n",
    "# # Closeness centrality\n",
    "# closeness_centrality = nx.closeness_centrality(G)"
   ]
  },
  {
   "cell_type": "code",
   "execution_count": null,
   "metadata": {},
   "outputs": [
    {
     "data": {
      "image/png": "[encoded data removed]",
      "text/plain": [
       "<Figure size 1296x432 with 4 Axes>"
      ]
     },
     "metadata": {
      "needs_background": "light"
     },
     "output_type": "display_data"
    }
   ],
   "source": [
    "#attribute_names = ['danceability', 'energy', 'valence', 'tempo', 'loudness', 'acousticness', 'instrumentalness', 'liveness', 'speechiness']\n",
    "#using the full list might take long time so try using one\n",
    "attribute_names = ['danceability']\n",
    "\n",
    "# Calculate and plot different centrality measures against musical characteristics\n",
    "fig, ax = plt.subplots(1, 4, figsize=(18,6))\n",
    "\n",
    "# Degree centrality\n",
    "for i, attr in enumerate(attribute_names):\n",
    "    attr_values = defaultdict(list)\n",
    "    for n, v in degree_centrality.items():\n",
    "        attr_values[attr].append(G.nodes[n][attr])\n",
    "    ax[0].scatter(attr_values[attr], list(degree_centrality.values()))\n",
    "    ax[0].set_title('Degree Centrality')\n",
    "    ax[0].set_xlabel(attr.capitalize())\n",
    "    ax[0].set_ylabel('Degree Centrality')\n",
    "\n",
    "\n",
    "# Betweenness centrality\n",
    "for i, attr in enumerate(attribute_names):\n",
    "    attr_values = defaultdict(list)\n",
    "    for n, v in betweenness_centrality.items():\n",
    "        attr_values[attr].append(G.nodes[n][attr])\n",
    "    ax[1].scatter(attr_values[attr], list(betweenness_centrality.values()))\n",
    "    ax[1].set_title('Betweenness Centrality')\n",
    "    ax[1].set_xlabel(attr.capitalize())\n",
    "    ax[1].set_ylabel('Betweenness Centrality')\n",
    "\n",
    "# Eigenvector centrality\n",
    "for i, attr in enumerate(attribute_names):\n",
    "    attr_values = defaultdict(list)\n",
    "    for n, v in eigenvector_centrality.items():\n",
    "        attr_values[attr].append(G.nodes[n][attr])\n",
    "    ax[2].scatter(attr_values[attr], list(eigenvector_centrality.values()))\n",
    "    ax[2].set_title('Eigenvector Centrality')\n",
    "    ax[2].set_xlabel(attr.capitalize())\n",
    "    ax[2].set_ylabel('Eigenvector Centrality')\n",
    "\n",
    "# Closeness centrality\n",
    "for i, attr in enumerate(attribute_names):\n",
    "    attr_values = defaultdict(list)\n",
    "    for n, v in closeness_centrality.items():\n",
    "        attr_values[attr].append(G.nodes[n][attr])\n",
    "    ax[3].scatter(attr_values[attr], list(closeness_centrality.values()))\n",
    "    ax[3].set_title('ClosenessCentrality')\n",
    "    ax[3].set_xlabel(attr.capitalize())\n",
    "    ax[3].set_ylabel('Closeness Centrality')\n",
    "\n",
    "plt.show()\n",
    "\n"
   ]
  },
  {
   "cell_type": "markdown",
   "metadata": {},
   "source": [
    "If we look at the distribution, it is not linear. So in order to study their relationship linear correlation coefficients won't be sufficient. First let us look at each musical charactersitcs and their correlations with betweenness centrality. Later we will include others too. "
   ]
  },
  {
   "cell_type": "code",
   "execution_count": 51,
   "metadata": {},
   "outputs": [
    {
     "name": "stdout",
     "output_type": "stream",
     "text": [
      "\n",
      "Danceability:\n",
      "1. Spearman correlation: -0.08\n",
      "2. Kendall correlation: -0.06\n",
      "3. Pearson correlation: -0.03\n",
      "\n",
      "Energy:\n",
      "1. Spearman correlation: -0.05\n",
      "2. Kendall correlation: -0.04\n",
      "3. Pearson correlation: -0.02\n",
      "\n",
      "Valence:\n",
      "1. Spearman correlation: 0.03\n",
      "2. Kendall correlation: 0.02\n",
      "3. Pearson correlation: 0.00\n",
      "\n",
      "Tempo:\n",
      "1. Spearman correlation: 0.03\n",
      "2. Kendall correlation: 0.02\n",
      "3. Pearson correlation: 0.00\n",
      "\n",
      "Loudness:\n",
      "1. Spearman correlation: -0.16\n",
      "2. Kendall correlation: -0.11\n",
      "3. Pearson correlation: -0.04\n",
      "\n",
      "Acousticness:\n",
      "1. Spearman correlation: 0.04\n",
      "2. Kendall correlation: 0.03\n",
      "3. Pearson correlation: 0.03\n",
      "\n",
      "Instrumentalness:\n",
      "1. Spearman correlation: 0.20\n",
      "2. Kendall correlation: 0.14\n",
      "3. Pearson correlation: -0.00\n",
      "\n",
      "Liveness:\n",
      "1. Spearman correlation: 0.11\n",
      "2. Kendall correlation: 0.08\n",
      "3. Pearson correlation: 0.02\n",
      "\n",
      "Speechiness:\n",
      "1. Spearman correlation: 0.01\n",
      "2. Pearson correlation: -0.01\n",
      "3. Kendall correlation: 0.01\n"
     ]
    }
   ],
   "source": [
    "from scipy.stats import spearmanr, kendalltau, pearsonr\n",
    "\n",
    "attribute_names = ['danceability', 'energy', 'valence', 'tempo', 'loudness', 'acousticness', 'instrumentalness', 'liveness', 'speechiness']\n",
    "\n",
    "for attr in attribute_names:\n",
    "    bc_values = []\n",
    "    attr_values = []\n",
    "    for node in G.nodes():\n",
    "        bc_values.append(betweenness_centrality[node])\n",
    "        attr_values.append(G.nodes[node][attr])\n",
    "    spearman_corr, _ = spearmanr(bc_values, attr_values)\n",
    "    kendall_corr, _ = kendalltau(bc_values, attr_values)\n",
    "    pearson_corr, _ = pearsonr(bc_values, attr_values)\n",
    "    \n",
    "    # Create a dictionary with correlation coefficients and their names\n",
    "    corr_dict = {'Spearman': spearman_corr, 'Kendall': kendall_corr, 'Pearson': pearson_corr}\n",
    "    \n",
    "    # Sort the dictionary by the absolute value of the correlation coefficient\n",
    "    sorted_corr_dict = {k: v for k, v in sorted(corr_dict.items(), key=lambda item: abs(item[1]), reverse=True)}\n",
    "    \n",
    "    # Print the correlations and their rankings\n",
    "    print(f\"\\n{attr.capitalize()}:\")\n",
    "    for i, (corr_name, corr_value) in enumerate(sorted_corr_dict.items()):\n",
    "        print(f\"{i+1}. {corr_name} correlation: {corr_value:.2f}\")\n",
    "\n",
    "\n"
   ]
  },
  {
   "cell_type": "markdown",
   "metadata": {},
   "source": [
    "Now let's modify the code to print the ranking of musical characteristics for each correlation type (Spearman, Kendall, and Pearson), with the characteristics that have the strongest correlation ranked first."
   ]
  },
  {
   "cell_type": "code",
   "execution_count": 52,
   "metadata": {},
   "outputs": [
    {
     "name": "stdout",
     "output_type": "stream",
     "text": [
      "\n",
      "Ranking by Spearman correlation:\n",
      "1. Instrumentalness - Spearman correlation: 0.20\n",
      "2. Liveness - Spearman correlation: 0.11\n",
      "3. Acousticness - Spearman correlation: 0.04\n",
      "4. Valence - Spearman correlation: 0.03\n",
      "5. Tempo - Spearman correlation: 0.03\n",
      "6. Speechiness - Spearman correlation: 0.01\n",
      "7. Energy - Spearman correlation: -0.05\n",
      "8. Danceability - Spearman correlation: -0.08\n",
      "9. Loudness - Spearman correlation: -0.16\n",
      "\n",
      "Ranking by Kendall correlation:\n",
      "1. Instrumentalness - Kendall correlation: 0.14\n",
      "2. Liveness - Kendall correlation: 0.08\n",
      "3. Acousticness - Kendall correlation: 0.03\n",
      "4. Valence - Kendall correlation: 0.02\n",
      "5. Tempo - Kendall correlation: 0.02\n",
      "6. Speechiness - Kendall correlation: 0.01\n",
      "7. Energy - Kendall correlation: -0.04\n",
      "8. Danceability - Kendall correlation: -0.06\n",
      "9. Loudness - Kendall correlation: -0.11\n",
      "\n",
      "Ranking by Pearson correlation:\n",
      "1. Instrumentalness - Pearson correlation: -0.00\n",
      "2. Liveness - Pearson correlation: 0.02\n",
      "3. Acousticness - Pearson correlation: 0.03\n",
      "4. Valence - Pearson correlation: 0.00\n",
      "5. Tempo - Pearson correlation: 0.00\n",
      "6. Speechiness - Pearson correlation: -0.01\n",
      "7. Energy - Pearson correlation: -0.02\n",
      "8. Danceability - Pearson correlation: -0.03\n",
      "9. Loudness - Pearson correlation: -0.04\n"
     ]
    }
   ],
   "source": [
    "from scipy.stats import spearmanr, kendalltau, pearsonr\n",
    "\n",
    "attribute_names = ['danceability', 'energy', 'valence', 'tempo', 'loudness', 'acousticness', 'instrumentalness', 'liveness', 'speechiness']\n",
    "correlations = {}\n",
    "\n",
    "for attr_name in attribute_names:\n",
    "    # Get betweenness centrality values and attribute values for each node\n",
    "    bc_values = []\n",
    "    attr_values = []\n",
    "    for node in G.nodes():\n",
    "        bc_values.append(betweenness_centrality[node])\n",
    "        attr_values.append(G.nodes[node][attr_name])\n",
    "    # Calculate Spearman, Kendall, and Pearson correlations\n",
    "    spearman_corr, _ = spearmanr(bc_values, attr_values)\n",
    "    kendall_corr, _ = kendalltau(bc_values, attr_values)\n",
    "    pearson_corr, _ = pearsonr(bc_values, attr_values)\n",
    "    correlations[attr_name] = {'Spearman': spearman_corr, 'Kendall': kendall_corr, 'Pearson': pearson_corr}\n",
    "\n",
    "# Sort correlations by descending order of Spearman correlation\n",
    "sorted_correlations = sorted(correlations.items(), key=lambda x: x[1]['Spearman'], reverse=True)\n",
    "\n",
    "# Print rankings for each correlation type\n",
    "for corr_type in ['Spearman', 'Kendall', 'Pearson']:\n",
    "    print(f\"\\nRanking by {corr_type} correlation:\")\n",
    "    rank = 1\n",
    "    for attr, corr_dict in sorted_correlations:\n",
    "        corr_val = corr_dict[corr_type]\n",
    "        print(f\"{rank}. {attr.capitalize()} - {corr_type} correlation: {corr_val:.2f}\")\n",
    "        rank += 1\n"
   ]
  },
  {
   "cell_type": "markdown",
   "metadata": {},
   "source": [
    "The above output gives us a much better understanding of which musical characterstics are important for betweenness centrality. We can see that Instrumentalness is top for all types of correlation statistics. Now we shall do the same thing but for other centralities. "
   ]
  },
  {
   "cell_type": "code",
   "execution_count": 54,
   "metadata": {},
   "outputs": [
    {
     "name": "stdout",
     "output_type": "stream",
     "text": [
      "\n",
      "Ranking by Spearman correlation:\n",
      "1. Loudness - Spearman correlation: 0.48\n",
      "2. Energy - Spearman correlation: 0.47\n",
      "3. Tempo - Spearman correlation: 0.20\n",
      "4. Speechiness - Spearman correlation: 0.04\n",
      "5. Liveness - Spearman correlation: 0.04\n",
      "6. Instrumentalness - Spearman correlation: -0.05\n",
      "7. Danceability - Spearman correlation: -0.10\n",
      "8. Valence - Spearman correlation: -0.20\n",
      "9. Acousticness - Spearman correlation: -0.52\n",
      "\n",
      "Ranking by Kendall correlation:\n",
      "1. Loudness - Kendall correlation: 0.34\n",
      "2. Energy - Kendall correlation: 0.33\n",
      "3. Tempo - Kendall correlation: 0.14\n",
      "4. Speechiness - Kendall correlation: 0.02\n",
      "5. Liveness - Kendall correlation: 0.03\n",
      "6. Instrumentalness - Kendall correlation: -0.04\n",
      "7. Danceability - Kendall correlation: -0.07\n",
      "8. Valence - Kendall correlation: -0.14\n",
      "9. Acousticness - Kendall correlation: -0.38\n",
      "\n",
      "Ranking by Pearson correlation:\n",
      "1. Loudness - Pearson correlation: 0.31\n",
      "2. Energy - Pearson correlation: 0.28\n",
      "3. Tempo - Pearson correlation: 0.11\n",
      "4. Speechiness - Pearson correlation: 0.01\n",
      "5. Liveness - Pearson correlation: 0.01\n",
      "6. Instrumentalness - Pearson correlation: -0.09\n",
      "7. Danceability - Pearson correlation: -0.11\n",
      "8. Valence - Pearson correlation: -0.15\n",
      "9. Acousticness - Pearson correlation: -0.25\n"
     ]
    }
   ],
   "source": [
    "#for eigenvector centrality\n",
    "\n",
    "attribute_names = ['danceability', 'energy', 'valence', 'tempo', 'loudness', 'acousticness', 'instrumentalness', 'liveness', 'speechiness']\n",
    "correlations = {}\n",
    "\n",
    "for attr_name in attribute_names:\n",
    "    # Get eigenvector centrality values and attribute values for each node\n",
    "    bc_values = []\n",
    "    attr_values = []\n",
    "    for node in G.nodes():\n",
    "        bc_values.append(eigenvector_centrality_scores[node])\n",
    "        attr_values.append(G.nodes[node][attr_name])\n",
    "    # Calculate Spearman, Kendall, and Pearson correlations\n",
    "    spearman_corr, _ = spearmanr(bc_values, attr_values)\n",
    "    kendall_corr, _ = kendalltau(bc_values, attr_values)\n",
    "    pearson_corr, _ = pearsonr(bc_values, attr_values)\n",
    "    correlations[attr_name] = {'Spearman': spearman_corr, 'Kendall': kendall_corr, 'Pearson': pearson_corr}\n",
    "\n",
    "# Sort correlations by descending order of Spearman correlation\n",
    "sorted_correlations = sorted(correlations.items(), key=lambda x: x[1]['Spearman'], reverse=True)\n",
    "\n",
    "# Print rankings for each correlation type\n",
    "for corr_type in ['Spearman', 'Kendall', 'Pearson']:\n",
    "    print(f\"\\nRanking by {corr_type} correlation:\")\n",
    "    rank = 1\n",
    "    for attr, corr_dict in sorted_correlations:\n",
    "        corr_val = corr_dict[corr_type]\n",
    "        print(f\"{rank}. {attr.capitalize()} - {corr_type} correlation: {corr_val:.2f}\")\n",
    "        rank += 1\n"
   ]
  },
  {
   "cell_type": "code",
   "execution_count": null,
   "metadata": {},
   "outputs": [
    {
     "name": "stdout",
     "output_type": "stream",
     "text": [
      "\n",
      "Ranking by Spearman correlation:\n",
      "1. Loudness - Spearman correlation: 0.47\n",
      "2. Energy - Spearman correlation: 0.43\n",
      "3. Tempo - Spearman correlation: 0.19\n",
      "4. Liveness - Spearman correlation: 0.03\n",
      "5. Speechiness - Spearman correlation: 0.01\n",
      "6. Danceability - Spearman correlation: -0.06\n",
      "7. Instrumentalness - Spearman correlation: -0.08\n",
      "8. Valence - Spearman correlation: -0.20\n",
      "9. Acousticness - Spearman correlation: -0.48\n",
      "\n",
      "Ranking by Kendall correlation:\n",
      "1. Loudness - Kendall correlation: 0.33\n",
      "2. Energy - Kendall correlation: 0.30\n",
      "3. Tempo - Kendall correlation: 0.13\n",
      "4. Liveness - Kendall correlation: 0.02\n",
      "5. Speechiness - Kendall correlation: 0.01\n",
      "6. Danceability - Kendall correlation: -0.04\n",
      "7. Instrumentalness - Kendall correlation: -0.05\n",
      "8. Valence - Kendall correlation: -0.13\n",
      "9. Acousticness - Kendall correlation: -0.34\n",
      "\n",
      "Ranking by Pearson correlation:\n",
      "1. Loudness - Pearson correlation: 0.44\n",
      "2. Energy - Pearson correlation: 0.41\n",
      "3. Tempo - Pearson correlation: 0.15\n",
      "4. Liveness - Pearson correlation: -0.03\n",
      "5. Speechiness - Pearson correlation: -0.05\n",
      "6. Danceability - Pearson correlation: -0.05\n",
      "7. Instrumentalness - Pearson correlation: -0.13\n",
      "8. Valence - Pearson correlation: -0.18\n",
      "9. Acousticness - Pearson correlation: -0.48\n"
     ]
    }
   ],
   "source": [
    "#for closeness centrality\n",
    "\n",
    "attribute_names = ['danceability', 'energy', 'valence', 'tempo', 'loudness', 'acousticness', 'instrumentalness', 'liveness', 'speechiness']\n",
    "correlations = {}\n",
    "\n",
    "for attr_name in attribute_names:\n",
    "    # Get closeness centrality values and attribute values for each node\n",
    "    bc_values = []\n",
    "    attr_values = []\n",
    "    for node in G.nodes():\n",
    "        bc_values.append(closeness_centrality[node])\n",
    "        attr_values.append(G.nodes[node][attr_name])\n",
    "    # Calculate Spearman, Kendall, and Pearson correlations\n",
    "    spearman_corr, _ = spearmanr(bc_values, attr_values)\n",
    "    kendall_corr, _ = kendalltau(bc_values, attr_values)\n",
    "    pearson_corr, _ = pearsonr(bc_values, attr_values)\n",
    "    correlations[attr_name] = {'Spearman': spearman_corr, 'Kendall': kendall_corr, 'Pearson': pearson_corr}\n",
    "\n",
    "# Sort correlations by descending order of Spearman correlation\n",
    "sorted_correlations = sorted(correlations.items(), key=lambda x: x[1]['Spearman'], reverse=True)\n",
    "\n",
    "# Print rankings for each correlation type\n",
    "for corr_type in ['Spearman', 'Kendall', 'Pearson']:\n",
    "    print(f\"\\nRanking by {corr_type} correlation:\")\n",
    "    rank = 1\n",
    "    for attr, corr_dict in sorted_correlations:\n",
    "        corr_val = corr_dict[corr_type]\n",
    "        print(f\"{rank}. {attr.capitalize()} - {corr_type} correlation: {corr_val:.2f}\")\n",
    "        rank += 1"
   ]
  }
 ],
 "metadata": {
  "kernelspec": {
   "display_name": "Python 3.8.8 ('base')",
   "language": "python",
   "name": "python3"
  },
  "language_info": {
   "codemirror_mode": {
    "name": "ipython",
    "version": 3
   },
   "file_extension": ".py",
   "mimetype": "text/x-python",
   "name": "python",
   "nbconvert_exporter": "python",
   "pygments_lexer": "ipython3",
   "version": "3.8.12"
  },
  "orig_nbformat": 4,
  "vscode": {
   "interpreter": {
    "hash": "ee459a524a0f4feebc430db76339f79d28cabbe4af7ab54f836ed57576b981e3"
   }
  }
 },
 "nbformat": 4,
 "nbformat_minor": 2
}
